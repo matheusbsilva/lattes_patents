{
 "cells": [
  {
   "cell_type": "code",
   "execution_count": 1,
   "metadata": {},
   "outputs": [],
   "source": [
    "import pandas as pd\n",
    "import matplotlib.pyplot as plt"
   ]
  },
  {
   "cell_type": "markdown",
   "metadata": {},
   "source": [
    "Imports de todos os excel"
   ]
  },
  {
   "cell_type": "code",
   "execution_count": 2,
   "metadata": {},
   "outputs": [],
   "source": [
    "patentes = pd.read_excel('../patentes/patentes.xlsx',sheet_name = 'Sheet1') "
   ]
  },
  {
   "cell_type": "code",
   "execution_count": 3,
   "metadata": {},
   "outputs": [],
   "source": [
    "marcas = pd.read_excel('../patentes/marca.xlsx',sheet_name = 'Sheet1')"
   ]
  },
  {
   "cell_type": "code",
   "execution_count": 4,
   "metadata": {},
   "outputs": [],
   "source": [
    "software = pd.read_excel('../patentes/software.xlsx',sheet_name = 'Sheet1') "
   ]
  },
  {
   "cell_type": "code",
   "execution_count": 5,
   "metadata": {},
   "outputs": [],
   "source": [
    "desenho = pd.read_excel('../patentes/desenho.xlsx',sheet_name = 'Sheet1') "
   ]
  },
  {
   "cell_type": "code",
   "execution_count": 54,
   "metadata": {},
   "outputs": [],
   "source": [
    "topografia = pd.read_excel('../patentes/topografia.xlsx',sheet_name = 'Sheet1')"
   ]
  },
  {
   "cell_type": "code",
   "execution_count": 55,
   "metadata": {},
   "outputs": [],
   "source": [
    "cultivar_registrada = pd.read_excel('../patentes/cultivar_registrada.xlsx',sheet_name = 'Sheet1') "
   ]
  },
  {
   "cell_type": "code",
   "execution_count": 65,
   "metadata": {},
   "outputs": [],
   "source": [
    "cultivar_protegida = pd.read_excel('../patentes/cultivar_protegida.xlsx',sheet_name = 'Sheet1') "
   ]
  },
  {
   "cell_type": "code",
   "execution_count": 12,
   "metadata": {},
   "outputs": [
    {
     "data": {
      "text/html": [
       "<div>\n",
       "<style scoped>\n",
       "    .dataframe tbody tr th:only-of-type {\n",
       "        vertical-align: middle;\n",
       "    }\n",
       "\n",
       "    .dataframe tbody tr th {\n",
       "        vertical-align: top;\n",
       "    }\n",
       "\n",
       "    .dataframe thead th {\n",
       "        text-align: right;\n",
       "    }\n",
       "</style>\n",
       "<table border=\"1\" class=\"dataframe\">\n",
       "  <thead>\n",
       "    <tr style=\"text-align: right;\">\n",
       "      <th></th>\n",
       "      <th>id_lattes</th>\n",
       "      <th>respondeu</th>\n",
       "      <th>inct</th>\n",
       "      <th>grupo_tematico</th>\n",
       "      <th>membro_status</th>\n",
       "      <th>nome_completo</th>\n",
       "      <th>id_patente</th>\n",
       "      <th>titulo_patente</th>\n",
       "      <th>ano_desenvolvimento</th>\n",
       "      <th>pais</th>\n",
       "      <th>...</th>\n",
       "      <th>palavra_chave_5</th>\n",
       "      <th>palavra_chave_6</th>\n",
       "      <th>setor_de_atividade_1</th>\n",
       "      <th>setor_de_atividade_2</th>\n",
       "      <th>setor_de_atividade_3</th>\n",
       "      <th>descricao_info_adicionais</th>\n",
       "      <th>nome_completo_autores</th>\n",
       "      <th>nome_citacao_autores</th>\n",
       "      <th>ordem_autoria_autores</th>\n",
       "      <th>id_autores</th>\n",
       "    </tr>\n",
       "  </thead>\n",
       "  <tbody>\n",
       "    <tr>\n",
       "      <th>1</th>\n",
       "      <td>21199964477362</td>\n",
       "      <td>False</td>\n",
       "      <td>INCT de Catálise em Sistemas Moleculares e Nan...</td>\n",
       "      <td>Nanotecnologia</td>\n",
       "      <td>NaN</td>\n",
       "      <td>Bruno Szpoganicz</td>\n",
       "      <td>BR1020160063345</td>\n",
       "      <td>Nanopartículas superparamagnéticas (NPMs) de F...</td>\n",
       "      <td>2016</td>\n",
       "      <td>Brasil</td>\n",
       "      <td>...</td>\n",
       "      <td>NaN</td>\n",
       "      <td>NaN</td>\n",
       "      <td>Atividades de atenção à saúde humana</td>\n",
       "      <td>NaN</td>\n",
       "      <td>NaN</td>\n",
       "      <td>Nanopartículas superparamagnéticas (NPMs) de F...</td>\n",
       "      <td>ZOTTIS, ALEXANDRE D´AGOSTINI; Luiciano R. S. L...</td>\n",
       "      <td>ZOTTIS, ALEXANDRE D´AGOSTINI; LARA, L. R. S.; ...</td>\n",
       "      <td>1; 10; 11; 2; 3; 4; 5; 6; 7; 8; 9</td>\n",
       "      <td>VAZIO; VAZIO; VAZIO; VAZIO; VAZIO; VAZIO; 5839...</td>\n",
       "    </tr>\n",
       "    <tr>\n",
       "      <th>2</th>\n",
       "      <td>21199964477362</td>\n",
       "      <td>False</td>\n",
       "      <td>INCT de Catálise em Sistemas Moleculares e Nan...</td>\n",
       "      <td>Nanotecnologia</td>\n",
       "      <td>NaN</td>\n",
       "      <td>Bruno Szpoganicz</td>\n",
       "      <td>BR10201601548</td>\n",
       "      <td>NANOPARTÍCULAS SUPERPARAMAGNÉTICAS DE FE3O4 RE...</td>\n",
       "      <td>2016</td>\n",
       "      <td>Brasil</td>\n",
       "      <td>...</td>\n",
       "      <td>NaN</td>\n",
       "      <td>NaN</td>\n",
       "      <td>Atividades de atenção à saúde humana</td>\n",
       "      <td>NaN</td>\n",
       "      <td>NaN</td>\n",
       "      <td>NANOPARTÍCULAS SUPERPARAMAGNÉTICAS DE FE3O4 RE...</td>\n",
       "      <td>ZOTTIS, ALEXANDRE D´AGOSTINI; Luiciano R. S. L...</td>\n",
       "      <td>ZOTTIS, ALEXANDRE D´AGOSTINI; LARA, L. R. S.; ...</td>\n",
       "      <td>1; 10; 11; 2; 3; 4; 5; 6; 7; 8; 9; 1; 2; 3; 4;...</td>\n",
       "      <td>VAZIO; VAZIO; VAZIO; VAZIO; VAZIO; VAZIO; 5839...</td>\n",
       "    </tr>\n",
       "    <tr>\n",
       "      <th>3</th>\n",
       "      <td>22988322449627</td>\n",
       "      <td>True</td>\n",
       "      <td>INCT de Ciencias dos Materiais em Nanotecnologia</td>\n",
       "      <td>Nanotecnologia</td>\n",
       "      <td>NaN</td>\n",
       "      <td>Antonio Eduardo Martinelli</td>\n",
       "      <td>PI1002937</td>\n",
       "      <td>PROCESSO PARA TRATAMENTO DE ÁGUAS CONTAMINADAS...</td>\n",
       "      <td>2010</td>\n",
       "      <td>Brasil</td>\n",
       "      <td>...</td>\n",
       "      <td>NaN</td>\n",
       "      <td>NaN</td>\n",
       "      <td>NaN</td>\n",
       "      <td>NaN</td>\n",
       "      <td>NaN</td>\n",
       "      <td>PROCESSO PARA TRATAMENTO DE ÁGUAS CONTAMINADAS...</td>\n",
       "      <td>Gaspar Gonzalez Maldonado; Marcus Antonio de F...</td>\n",
       "      <td>MALDONADO, Gaspar Gonzalez; MELO, Marcus Anton...</td>\n",
       "      <td>1; 2; 3; 4; 1; 2; 3; 4; 5; 6; 1; 2; 3; 4; 1; 2...</td>\n",
       "      <td>VAZIO; VAZIO; 5840621182000517; 33188717161115...</td>\n",
       "    </tr>\n",
       "    <tr>\n",
       "      <th>4</th>\n",
       "      <td>22988322449627</td>\n",
       "      <td>True</td>\n",
       "      <td>INCT de Ciencias dos Materiais em Nanotecnologia</td>\n",
       "      <td>Nanotecnologia</td>\n",
       "      <td>NaN</td>\n",
       "      <td>Antonio Eduardo Martinelli</td>\n",
       "      <td>PI11030968</td>\n",
       "      <td>FORMULAÇÕES DE MASSA CERÂMICA PARA REVESTIMENT...</td>\n",
       "      <td>2011</td>\n",
       "      <td>Brasil</td>\n",
       "      <td>...</td>\n",
       "      <td>NaN</td>\n",
       "      <td>NaN</td>\n",
       "      <td>NaN</td>\n",
       "      <td>NaN</td>\n",
       "      <td>NaN</td>\n",
       "      <td>A patente de invenção diz respeito ao uso de t...</td>\n",
       "      <td>Gaspar Gonzalez Maldonado; Marcus Antonio de F...</td>\n",
       "      <td>MALDONADO, Gaspar Gonzalez; MELO, Marcus Anton...</td>\n",
       "      <td>1; 2; 3; 4; 1; 2; 3; 4; 5; 6; 1; 2; 3; 4; 1; 2...</td>\n",
       "      <td>VAZIO; VAZIO; 5840621182000517; 33188717161115...</td>\n",
       "    </tr>\n",
       "    <tr>\n",
       "      <th>5</th>\n",
       "      <td>22988322449627</td>\n",
       "      <td>True</td>\n",
       "      <td>INCT de Ciencias dos Materiais em Nanotecnologia</td>\n",
       "      <td>Nanotecnologia</td>\n",
       "      <td>NaN</td>\n",
       "      <td>Antonio Eduardo Martinelli</td>\n",
       "      <td>PI06005438A2</td>\n",
       "      <td>PASTA CIMENTANTE GEOPOLIMERIZADA E MÉTODO DE P...</td>\n",
       "      <td>2006</td>\n",
       "      <td>Brasil</td>\n",
       "      <td>...</td>\n",
       "      <td>NaN</td>\n",
       "      <td>NaN</td>\n",
       "      <td>NaN</td>\n",
       "      <td>NaN</td>\n",
       "      <td>NaN</td>\n",
       "      <td>NaN</td>\n",
       "      <td>Gaspar Gonzalez Maldonado; Marcus Antonio de F...</td>\n",
       "      <td>MALDONADO, Gaspar Gonzalez; MELO, Marcus Anton...</td>\n",
       "      <td>1; 2; 3; 4; 1; 2; 3; 4; 5; 6; 1; 2; 3; 4; 1; 2...</td>\n",
       "      <td>VAZIO; VAZIO; 5840621182000517; 33188717161115...</td>\n",
       "    </tr>\n",
       "  </tbody>\n",
       "</table>\n",
       "<p>5 rows × 45 columns</p>\n",
       "</div>"
      ],
      "text/plain": [
       "        id_lattes  respondeu  \\\n",
       "1  21199964477362      False   \n",
       "2  21199964477362      False   \n",
       "3  22988322449627       True   \n",
       "4  22988322449627       True   \n",
       "5  22988322449627       True   \n",
       "\n",
       "                                                inct  grupo_tematico  \\\n",
       "1  INCT de Catálise em Sistemas Moleculares e Nan...  Nanotecnologia   \n",
       "2  INCT de Catálise em Sistemas Moleculares e Nan...  Nanotecnologia   \n",
       "3   INCT de Ciencias dos Materiais em Nanotecnologia  Nanotecnologia   \n",
       "4   INCT de Ciencias dos Materiais em Nanotecnologia  Nanotecnologia   \n",
       "5   INCT de Ciencias dos Materiais em Nanotecnologia  Nanotecnologia   \n",
       "\n",
       "   membro_status               nome_completo       id_patente  \\\n",
       "1            NaN            Bruno Szpoganicz  BR1020160063345   \n",
       "2            NaN            Bruno Szpoganicz    BR10201601548   \n",
       "3            NaN  Antonio Eduardo Martinelli        PI1002937   \n",
       "4            NaN  Antonio Eduardo Martinelli       PI11030968   \n",
       "5            NaN  Antonio Eduardo Martinelli     PI06005438A2   \n",
       "\n",
       "                                      titulo_patente  ano_desenvolvimento  \\\n",
       "1  Nanopartículas superparamagnéticas (NPMs) de F...                 2016   \n",
       "2  NANOPARTÍCULAS SUPERPARAMAGNÉTICAS DE FE3O4 RE...                 2016   \n",
       "3  PROCESSO PARA TRATAMENTO DE ÁGUAS CONTAMINADAS...                 2010   \n",
       "4  FORMULAÇÕES DE MASSA CERÂMICA PARA REVESTIMENT...                 2011   \n",
       "5  PASTA CIMENTANTE GEOPOLIMERIZADA E MÉTODO DE P...                 2006   \n",
       "\n",
       "     pais                        ...                         palavra_chave_5  \\\n",
       "1  Brasil                        ...                                     NaN   \n",
       "2  Brasil                        ...                                     NaN   \n",
       "3  Brasil                        ...                                     NaN   \n",
       "4  Brasil                        ...                                     NaN   \n",
       "5  Brasil                        ...                                     NaN   \n",
       "\n",
       "  palavra_chave_6                  setor_de_atividade_1 setor_de_atividade_2  \\\n",
       "1             NaN  Atividades de atenção à saúde humana                  NaN   \n",
       "2             NaN  Atividades de atenção à saúde humana                  NaN   \n",
       "3             NaN                                   NaN                  NaN   \n",
       "4             NaN                                   NaN                  NaN   \n",
       "5             NaN                                   NaN                  NaN   \n",
       "\n",
       "  setor_de_atividade_3                          descricao_info_adicionais  \\\n",
       "1                  NaN  Nanopartículas superparamagnéticas (NPMs) de F...   \n",
       "2                  NaN  NANOPARTÍCULAS SUPERPARAMAGNÉTICAS DE FE3O4 RE...   \n",
       "3                  NaN  PROCESSO PARA TRATAMENTO DE ÁGUAS CONTAMINADAS...   \n",
       "4                  NaN  A patente de invenção diz respeito ao uso de t...   \n",
       "5                  NaN                                                NaN   \n",
       "\n",
       "                               nome_completo_autores  \\\n",
       "1  ZOTTIS, ALEXANDRE D´AGOSTINI; Luiciano R. S. L...   \n",
       "2  ZOTTIS, ALEXANDRE D´AGOSTINI; Luiciano R. S. L...   \n",
       "3  Gaspar Gonzalez Maldonado; Marcus Antonio de F...   \n",
       "4  Gaspar Gonzalez Maldonado; Marcus Antonio de F...   \n",
       "5  Gaspar Gonzalez Maldonado; Marcus Antonio de F...   \n",
       "\n",
       "                                nome_citacao_autores  \\\n",
       "1  ZOTTIS, ALEXANDRE D´AGOSTINI; LARA, L. R. S.; ...   \n",
       "2  ZOTTIS, ALEXANDRE D´AGOSTINI; LARA, L. R. S.; ...   \n",
       "3  MALDONADO, Gaspar Gonzalez; MELO, Marcus Anton...   \n",
       "4  MALDONADO, Gaspar Gonzalez; MELO, Marcus Anton...   \n",
       "5  MALDONADO, Gaspar Gonzalez; MELO, Marcus Anton...   \n",
       "\n",
       "                               ordem_autoria_autores  \\\n",
       "1                  1; 10; 11; 2; 3; 4; 5; 6; 7; 8; 9   \n",
       "2  1; 10; 11; 2; 3; 4; 5; 6; 7; 8; 9; 1; 2; 3; 4;...   \n",
       "3  1; 2; 3; 4; 1; 2; 3; 4; 5; 6; 1; 2; 3; 4; 1; 2...   \n",
       "4  1; 2; 3; 4; 1; 2; 3; 4; 5; 6; 1; 2; 3; 4; 1; 2...   \n",
       "5  1; 2; 3; 4; 1; 2; 3; 4; 5; 6; 1; 2; 3; 4; 1; 2...   \n",
       "\n",
       "                                          id_autores  \n",
       "1  VAZIO; VAZIO; VAZIO; VAZIO; VAZIO; VAZIO; 5839...  \n",
       "2  VAZIO; VAZIO; VAZIO; VAZIO; VAZIO; VAZIO; 5839...  \n",
       "3  VAZIO; VAZIO; 5840621182000517; 33188717161115...  \n",
       "4  VAZIO; VAZIO; 5840621182000517; 33188717161115...  \n",
       "5  VAZIO; VAZIO; 5840621182000517; 33188717161115...  \n",
       "\n",
       "[5 rows x 45 columns]"
      ]
     },
     "execution_count": 12,
     "metadata": {},
     "output_type": "execute_result"
    }
   ],
   "source": [
    "patentes.head()"
   ]
  },
  {
   "cell_type": "code",
   "execution_count": 6,
   "metadata": {},
   "outputs": [
    {
     "data": {
      "text/plain": [
       "Index(['id_lattes', 'respondeu', 'inct', 'grupo_tematico', 'membro_status',\n",
       "       'nome_completo', 'id_patente', 'titulo_patente', 'ano_desenvolvimento',\n",
       "       'pais', 'meio_de_divulgacao', 'flag_relevancia',\n",
       "       'flag_potencial_inovacao', 'finalidade', 'instituicao_financiadora',\n",
       "       'categoria', 'tipo_patente', 'titulo_patente_reg',\n",
       "       'data_pedido_de_deposito', 'data_pedido_de_exame', 'data_de_concessao',\n",
       "       'instituicao_deposito_registro', 'numero_deposito_pct',\n",
       "       'formato_data_deposito_pct', 'data_deposito_pct', 'nome_titular',\n",
       "       'nome_depositante', 'sta_validacao', 'descricao_situacao',\n",
       "       'data_situacao', 'status_situacao', 'palavra_chave_1',\n",
       "       'palavra_chave_2', 'palavra_chave_3', 'palavra_chave_4',\n",
       "       'palavra_chave_5', 'palavra_chave_6', 'setor_de_atividade_1',\n",
       "       'setor_de_atividade_2', 'setor_de_atividade_3',\n",
       "       'descricao_info_adicionais', 'nome_completo_autores',\n",
       "       'nome_citacao_autores', 'ordem_autoria_autores', 'id_autores'],\n",
       "      dtype='object')"
      ]
     },
     "execution_count": 6,
     "metadata": {},
     "output_type": "execute_result"
    }
   ],
   "source": [
    "patentes.columns"
   ]
  },
  {
   "cell_type": "code",
   "execution_count": 86,
   "metadata": {},
   "outputs": [],
   "source": [
    "patentes['tipo']='Patente'"
   ]
  },
  {
   "cell_type": "code",
   "execution_count": 83,
   "metadata": {},
   "outputs": [],
   "source": [
    "df_pat = patentes[['id_lattes','respondeu', 'inct','grupo_tematico','ano_desenvolvimento', 'pais','tipo']].copy()"
   ]
  },
  {
   "cell_type": "code",
   "execution_count": 84,
   "metadata": {},
   "outputs": [
    {
     "data": {
      "text/plain": [
       "Index(['id_lattes', 'respondeu', 'inct', 'grupo_tematico', 'membro_status',\n",
       "       'nome_completo', 'id_patente', 'titulo_marca', 'ano_desenvolvimento',\n",
       "       'pais', 'flag_relevancia', 'titulo_ingles', 'flag_potencial_inovacao',\n",
       "       'finalidade', 'finalidade_ingles', 'natureza', 'tipo_patente',\n",
       "       'titulo_patente_reg', 'data_pedido_de_deposito', 'data_pedido_de_exame',\n",
       "       'data_de_concessao', 'instituicao_deposito_registro',\n",
       "       'numero_deposito_pct', 'formato_data_deposito_pct', 'data_deposito_pct',\n",
       "       'nome_titular', 'nome_depositante', 'sta_validacao',\n",
       "       'nome_grande_area_do_conhecimento', 'nome_da_area_do_conhecimento',\n",
       "       'nome_da_sub_area_do_conhecimento', 'nome_da_especialidade',\n",
       "       'palavra_chave_1', 'palavra_chave_2', 'palavra_chave_3',\n",
       "       'palavra_chave_4', 'palavra_chave_5', 'palavra_chave_6',\n",
       "       'setor_de_atividade_1', 'setor_de_atividade_2', 'setor_de_atividade_3',\n",
       "       'nome_completo_autores', 'nome_citacao_autores',\n",
       "       'ordem_autoria_autores', 'id_autores'],\n",
       "      dtype='object')"
      ]
     },
     "execution_count": 84,
     "metadata": {},
     "output_type": "execute_result"
    }
   ],
   "source": [
    "marcas.columns"
   ]
  },
  {
   "cell_type": "code",
   "execution_count": 87,
   "metadata": {},
   "outputs": [],
   "source": [
    "marcas['tipo']='Marca'"
   ]
  },
  {
   "cell_type": "code",
   "execution_count": 88,
   "metadata": {},
   "outputs": [],
   "source": [
    "df_marcas = marcas[['id_lattes','respondeu','inct','grupo_tematico','ano_desenvolvimento','pais','tipo']].copy()"
   ]
  },
  {
   "cell_type": "code",
   "execution_count": 89,
   "metadata": {},
   "outputs": [
    {
     "data": {
      "text/plain": [
       "Index(['id_lattes', 'respondeu', 'inct', 'grupo_tematico', 'membro_status',\n",
       "       'nome_completo', 'id_patente', 'titulo_software', 'ano_desenvolvimento',\n",
       "       'pais', 'idioma', 'flag_relevancia', 'doi', 'meio_de_divulgacao',\n",
       "       'titulo_ingles', 'flag_potencial_inovacao',\n",
       "       'flag_divulgacao_cientifica', 'plataforma', 'disponibilidade',\n",
       "       'finalidade', 'finalidade_ingles', 'ambiente',\n",
       "       'instituicao_financiadora', 'tipo_patente', 'titulo_patente_reg',\n",
       "       'data_pedido_de_deposito', 'data_pedido_de_exame', 'data_de_concessao',\n",
       "       'instituicao_deposito_registro', 'numero_deposito_pct',\n",
       "       'formato_data_deposito_pct', 'data_deposito_pct', 'nome_titular',\n",
       "       'nome_depositante', 'sta_validacao', 'nome_grande_area_do_conhecimento',\n",
       "       'nome_da_area_do_conhecimento', 'nome_da_sub_area_do_conhecimento',\n",
       "       'nome_da_especialidade', 'palavra_chave_1', 'palavra_chave_2',\n",
       "       'palavra_chave_3', 'palavra_chave_4', 'palavra_chave_5',\n",
       "       'palavra_chave_6', 'setor_de_atividade_1', 'setor_de_atividade_2',\n",
       "       'setor_de_atividade_3', 'nome_completo_autores', 'nome_citacao_autores',\n",
       "       'ordem_autoria_autores', 'id_autores'],\n",
       "      dtype='object')"
      ]
     },
     "execution_count": 89,
     "metadata": {},
     "output_type": "execute_result"
    }
   ],
   "source": [
    "software.columns"
   ]
  },
  {
   "cell_type": "code",
   "execution_count": 90,
   "metadata": {},
   "outputs": [],
   "source": [
    "software['tipo']='Software'"
   ]
  },
  {
   "cell_type": "code",
   "execution_count": 91,
   "metadata": {},
   "outputs": [],
   "source": [
    "df_sof = software[['id_lattes','respondeu','inct','grupo_tematico','ano_desenvolvimento','pais','tipo']].copy()"
   ]
  },
  {
   "cell_type": "code",
   "execution_count": 92,
   "metadata": {},
   "outputs": [
    {
     "data": {
      "text/plain": [
       "Index(['id_lattes', 'respondeu', 'inct', 'grupo_tematico', 'membro_status',\n",
       "       'nome_completo', 'id_patente', 'titulo_marca', 'ano_desenvolvimento',\n",
       "       'pais', 'flag_relevancia', 'titulo_ingles', 'flag_potencial_inovacao',\n",
       "       'finalidade', 'instituicao_financiadora', 'finalidade_ingles',\n",
       "       'tipo_patente', 'titulo_patente_reg', 'data_pedido_de_deposito',\n",
       "       'data_pedido_de_exame', 'data_de_concessao',\n",
       "       'instituicao_deposito_registro', 'numero_deposito_pct',\n",
       "       'formato_data_deposito_pct', 'data_deposito_pct', 'nome_titular',\n",
       "       'nome_depositante', 'nome_grande_area_do_conhecimento',\n",
       "       'nome_da_area_do_conhecimento', 'nome_da_sub_area_do_conhecimento',\n",
       "       'nome_da_especialidade', 'nome_completo_autores',\n",
       "       'nome_citacao_autores', 'ordem_autoria_autores', 'id_autores'],\n",
       "      dtype='object')"
      ]
     },
     "execution_count": 92,
     "metadata": {},
     "output_type": "execute_result"
    }
   ],
   "source": [
    "desenho.columns"
   ]
  },
  {
   "cell_type": "code",
   "execution_count": 93,
   "metadata": {},
   "outputs": [],
   "source": [
    "desenho['tipo'] = 'Desenho'"
   ]
  },
  {
   "cell_type": "code",
   "execution_count": 94,
   "metadata": {},
   "outputs": [],
   "source": [
    "df_desenho = desenho[['id_lattes','respondeu','inct','grupo_tematico','ano_desenvolvimento','pais','tipo']].copy()"
   ]
  },
  {
   "cell_type": "code",
   "execution_count": 95,
   "metadata": {},
   "outputs": [
    {
     "data": {
      "text/plain": [
       "Index(['id_lattes', 'respondeu', 'inct', 'grupo_tematico', 'membro_status',\n",
       "       'nome_completo', 'id_patente', 'titulo_topografia',\n",
       "       'ano_desenvolvimento', 'pais', 'flag_relevancia', 'titulo_ingles',\n",
       "       'flag_potencial_inovacao', 'finalidade', 'instituicao_financiadora',\n",
       "       'finalidade_ingles', 'tipo_patente', 'titulo_patente_reg',\n",
       "       'data_pedido_de_deposito', 'data_pedido_de_exame', 'data_de_concessao',\n",
       "       'instituicao_deposito_registro', 'numero_deposito_pct',\n",
       "       'formato_data_deposito_pct', 'data_deposito_pct', 'nome_titular',\n",
       "       'nome_depositante', 'sta_validacao', 'descricao_info_adicionais',\n",
       "       'nome_completo_autores', 'nome_citacao_autores',\n",
       "       'ordem_autoria_autores', 'id_autores'],\n",
       "      dtype='object')"
      ]
     },
     "execution_count": 95,
     "metadata": {},
     "output_type": "execute_result"
    }
   ],
   "source": [
    "topografia.columns"
   ]
  },
  {
   "cell_type": "code",
   "execution_count": 96,
   "metadata": {},
   "outputs": [],
   "source": [
    "topografia['tipo']='Topografia'"
   ]
  },
  {
   "cell_type": "code",
   "execution_count": 97,
   "metadata": {},
   "outputs": [],
   "source": [
    "df_topografia = topografia[['id_lattes','respondeu','inct','grupo_tematico','ano_desenvolvimento','pais','tipo']].copy()"
   ]
  },
  {
   "cell_type": "code",
   "execution_count": 98,
   "metadata": {},
   "outputs": [
    {
     "data": {
      "text/plain": [
       "Index(['id_lattes', 'respondeu', 'inct', 'grupo_tematico', 'membro_status',\n",
       "       'nome_completo', 'id_patente', 'denominacao', 'ano_desenvolvimento',\n",
       "       'pais', 'flag_relevancia', 'denominacao_ingles',\n",
       "       'flag_potencial_inovacao', 'finalidade', 'instituicao_financiadora',\n",
       "       'finalidade_ingles', 'titulo_patente_reg', 'data_pedido_de_deposito',\n",
       "       'data_pedido_de_exame', 'data_de_concessao',\n",
       "       'instituicao_deposito_registro', 'numero_deposito_pct',\n",
       "       'formato_data_deposito_pct', 'data_deposito_pct', 'nome_titular',\n",
       "       'nome_depositante', 'sta_validacao',\n",
       "       'nome_grande_area_do_conhecimento_1', 'nome_da_area_do_conhecimento_1',\n",
       "       'nome_da_sub_area_do_conhecimento_1', 'nome_da_especialidade_1',\n",
       "       'nome_grande_area_do_conhecimento_2', 'nome_da_area_do_conhecimento_2',\n",
       "       'nome_da_sub_area_do_conhecimento_2', 'nome_da_especialidade_2',\n",
       "       'setor_de_atividade_1', 'setor_de_atividade_2', 'setor_de_atividade_3',\n",
       "       'nome_completo_autores', 'nome_citacao_autores',\n",
       "       'ordem_autoria_autores', 'id_autores'],\n",
       "      dtype='object')"
      ]
     },
     "execution_count": 98,
     "metadata": {},
     "output_type": "execute_result"
    }
   ],
   "source": [
    "cultivar_registrada.columns"
   ]
  },
  {
   "cell_type": "code",
   "execution_count": 99,
   "metadata": {},
   "outputs": [],
   "source": [
    "cultivar_registrada.rename(columns={'ano_solicitacao': 'ano_desenvolvimento'}, inplace=True)"
   ]
  },
  {
   "cell_type": "code",
   "execution_count": 100,
   "metadata": {},
   "outputs": [],
   "source": [
    "cultivar_registrada['tipo'] = 'Cultivar Registrada'"
   ]
  },
  {
   "cell_type": "code",
   "execution_count": 101,
   "metadata": {},
   "outputs": [],
   "source": [
    "df_cultivar_registrada = cultivar_registrada[['id_lattes','respondeu','inct','grupo_tematico','ano_desenvolvimento','pais','tipo']].copy()"
   ]
  },
  {
   "cell_type": "code",
   "execution_count": 102,
   "metadata": {},
   "outputs": [
    {
     "data": {
      "text/plain": [
       "Index(['id_lattes', 'respondeu', 'inct', 'grupo_tematico', 'membro_status',\n",
       "       'nome_completo', 'id_patente', 'denominacao', 'ano_desenvolvimento',\n",
       "       'pais', 'flag_relevancia', 'denominacao_ingles',\n",
       "       'flag_potencial_inovacao', 'finalidade', 'instituicao_financiadora',\n",
       "       'finalidade_ingles', 'titulo_patente_reg', 'data_pedido_de_deposito',\n",
       "       'data_pedido_de_exame', 'data_de_concessao',\n",
       "       'instituicao_deposito_registro', 'numero_deposito_pct',\n",
       "       'formato_data_deposito_pct', 'data_deposito_pct', 'nome_titular',\n",
       "       'nome_depositante', 'sta_validacao',\n",
       "       'nome_grande_area_do_conhecimento_1', 'nome_da_area_do_conhecimento_1',\n",
       "       'nome_da_sub_area_do_conhecimento_1', 'nome_da_especialidade_1',\n",
       "       'nome_grande_area_do_conhecimento_2', 'nome_da_area_do_conhecimento_2',\n",
       "       'nome_da_sub_area_do_conhecimento_2', 'nome_da_especialidade_2',\n",
       "       'setor_de_atividade_1', 'setor_de_atividade_2', 'setor_de_atividade_3',\n",
       "       'nome_completo_autores', 'nome_citacao_autores',\n",
       "       'ordem_autoria_autores', 'id_autores'],\n",
       "      dtype='object')"
      ]
     },
     "execution_count": 102,
     "metadata": {},
     "output_type": "execute_result"
    }
   ],
   "source": [
    "cultivar_protegida.columns"
   ]
  },
  {
   "cell_type": "code",
   "execution_count": 103,
   "metadata": {},
   "outputs": [],
   "source": [
    "cultivar_protegida.rename(columns={'ano_solicitacao': 'ano_desenvolvimento'}, inplace=True)"
   ]
  },
  {
   "cell_type": "code",
   "execution_count": 104,
   "metadata": {},
   "outputs": [],
   "source": [
    "cultivar_protegida['tipo'] = 'Cultivar Protegida'"
   ]
  },
  {
   "cell_type": "code",
   "execution_count": 105,
   "metadata": {},
   "outputs": [],
   "source": [
    "df_cultivar_protegida = cultivar_protegida[['id_lattes','respondeu','inct','grupo_tematico','ano_desenvolvimento','pais','tipo']]"
   ]
  },
  {
   "cell_type": "code",
   "execution_count": 106,
   "metadata": {},
   "outputs": [],
   "source": [
    "frames = [df_pat, df_marcas, df_desenho, df_sof, df_topografia, df_cultivar_registrada, df_cultivar_protegida] \n",
    "\n",
    "result = pd.concat(frames)"
   ]
  },
  {
   "cell_type": "code",
   "execution_count": 107,
   "metadata": {},
   "outputs": [
    {
     "data": {
      "text/plain": [
       "10310"
      ]
     },
     "execution_count": 107,
     "metadata": {},
     "output_type": "execute_result"
    }
   ],
   "source": [
    "len(result)"
   ]
  },
  {
   "cell_type": "code",
   "execution_count": 108,
   "metadata": {},
   "outputs": [],
   "source": [
    "result['inct'] = result.inct.str.lstrip()"
   ]
  },
  {
   "cell_type": "code",
   "execution_count": 109,
   "metadata": {},
   "outputs": [
    {
     "data": {
      "text/html": [
       "<div>\n",
       "<style scoped>\n",
       "    .dataframe tbody tr th:only-of-type {\n",
       "        vertical-align: middle;\n",
       "    }\n",
       "\n",
       "    .dataframe tbody tr th {\n",
       "        vertical-align: top;\n",
       "    }\n",
       "\n",
       "    .dataframe thead th {\n",
       "        text-align: right;\n",
       "    }\n",
       "</style>\n",
       "<table border=\"1\" class=\"dataframe\">\n",
       "  <thead>\n",
       "    <tr style=\"text-align: right;\">\n",
       "      <th></th>\n",
       "      <th>id_lattes</th>\n",
       "      <th>respondeu</th>\n",
       "      <th>inct</th>\n",
       "      <th>grupo_tematico</th>\n",
       "      <th>ano_desenvolvimento</th>\n",
       "      <th>pais</th>\n",
       "      <th>tipo</th>\n",
       "    </tr>\n",
       "  </thead>\n",
       "  <tbody>\n",
       "    <tr>\n",
       "      <th>735</th>\n",
       "      <td>1138639549823932</td>\n",
       "      <td>True</td>\n",
       "      <td>INCT de Óleo e Gás</td>\n",
       "      <td>Energia</td>\n",
       "      <td>2001.0</td>\n",
       "      <td>Brasil</td>\n",
       "      <td>Patente</td>\n",
       "    </tr>\n",
       "    <tr>\n",
       "      <th>3002</th>\n",
       "      <td>5408802153017996</td>\n",
       "      <td>True</td>\n",
       "      <td>INCT de Óleo e Gás</td>\n",
       "      <td>Energia</td>\n",
       "      <td>2009.0</td>\n",
       "      <td>Brasil</td>\n",
       "      <td>Patente</td>\n",
       "    </tr>\n",
       "    <tr>\n",
       "      <th>385</th>\n",
       "      <td>630189208238912</td>\n",
       "      <td>True</td>\n",
       "      <td>INCT de Óleo e Gás</td>\n",
       "      <td>Energia</td>\n",
       "      <td>2005.0</td>\n",
       "      <td>Brasil</td>\n",
       "      <td>Software</td>\n",
       "    </tr>\n",
       "    <tr>\n",
       "      <th>386</th>\n",
       "      <td>630189208238912</td>\n",
       "      <td>True</td>\n",
       "      <td>INCT de Óleo e Gás</td>\n",
       "      <td>Energia</td>\n",
       "      <td>2005.0</td>\n",
       "      <td>Brasil</td>\n",
       "      <td>Software</td>\n",
       "    </tr>\n",
       "    <tr>\n",
       "      <th>1717</th>\n",
       "      <td>3351408490818921</td>\n",
       "      <td>True</td>\n",
       "      <td>INCT de Óleo e Gás</td>\n",
       "      <td>Energia</td>\n",
       "      <td>2013.0</td>\n",
       "      <td>Brasil</td>\n",
       "      <td>Software</td>\n",
       "    </tr>\n",
       "  </tbody>\n",
       "</table>\n",
       "</div>"
      ],
      "text/plain": [
       "             id_lattes  respondeu                inct grupo_tematico  \\\n",
       "735   1138639549823932       True  INCT de Óleo e Gás        Energia   \n",
       "3002  5408802153017996       True  INCT de Óleo e Gás        Energia   \n",
       "385    630189208238912       True  INCT de Óleo e Gás        Energia   \n",
       "386    630189208238912       True  INCT de Óleo e Gás        Energia   \n",
       "1717  3351408490818921       True  INCT de Óleo e Gás        Energia   \n",
       "\n",
       "      ano_desenvolvimento    pais      tipo  \n",
       "735                2001.0  Brasil   Patente  \n",
       "3002               2009.0  Brasil   Patente  \n",
       "385                2005.0  Brasil  Software  \n",
       "386                2005.0  Brasil  Software  \n",
       "1717               2013.0  Brasil  Software  "
      ]
     },
     "execution_count": 109,
     "metadata": {},
     "output_type": "execute_result"
    }
   ],
   "source": [
    "result.loc[result.inct == 'INCT de Óleo e Gás']"
   ]
  },
  {
   "cell_type": "code",
   "execution_count": 110,
   "metadata": {},
   "outputs": [
    {
     "data": {
      "text/plain": [
       "<matplotlib.axes._subplots.AxesSubplot at 0x7f3a6533bf60>"
      ]
     },
     "execution_count": 110,
     "metadata": {},
     "output_type": "execute_result"
    },
    {
     "data": {
      "image/png": "[encoded data removed]",
      "text/plain": [
       "<Figure size 432x288 with 1 Axes>"
      ]
     },
     "metadata": {
      "needs_background": "light"
     },
     "output_type": "display_data"
    }
   ],
   "source": [
    "result.inct.value_counts().plot.bar()"
   ]
  },
  {
   "cell_type": "code",
   "execution_count": 111,
   "metadata": {},
   "outputs": [
    {
     "data": {
      "text/plain": [
       "2099"
      ]
     },
     "execution_count": 111,
     "metadata": {},
     "output_type": "execute_result"
    }
   ],
   "source": [
    "len(result.id_lattes.unique())"
   ]
  },
  {
   "cell_type": "code",
   "execution_count": 112,
   "metadata": {},
   "outputs": [
    {
     "data": {
      "text/plain": [
       "10310"
      ]
     },
     "execution_count": 112,
     "metadata": {},
     "output_type": "execute_result"
    }
   ],
   "source": [
    "len(result)"
   ]
  },
  {
   "cell_type": "code",
   "execution_count": 123,
   "metadata": {},
   "outputs": [
    {
     "data": {
      "text/plain": [
       "3252717320434089    135\n",
       "9545152910170494     83\n",
       "1061566045001511     78\n",
       "6507131548554325     72\n",
       "6191239140886028     67\n",
       "569614713880200      64\n",
       "1325247019367288     64\n",
       "2828124381670231     63\n",
       "7506578377321090     55\n",
       "3919711591553904     52\n",
       "5320044076881770     52\n",
       "7748064810111389     51\n",
       "6858139747014559     50\n",
       "9500245604678806     47\n",
       "9848311210578810     44\n",
       "7508554632929520     43\n",
       "7090419604571199     43\n",
       "291695624884565      42\n",
       "2365059843175411     40\n",
       "7992694643607149     40\n",
       "240551533292579      38\n",
       "7313722167100200     36\n",
       "7925449690046513     35\n",
       "4947860249518663     34\n",
       "8518698825437370     33\n",
       "1043780332502091     33\n",
       "9522788035526763     33\n",
       "4542759243110371     33\n",
       "3150074537946167     33\n",
       "3163271519013006     32\n",
       "                   ... \n",
       "8049184468038869      1\n",
       "8796898263583929      1\n",
       "2178533944807519      1\n",
       "5472101509640211      1\n",
       "5590258147022413      1\n",
       "232075212409214       1\n",
       "7014991384513854      1\n",
       "1741899845739117      1\n",
       "1029892667445223      1\n",
       "9578804482562433      1\n",
       "7304216246785522      1\n",
       "3098224583812072      1\n",
       "5284532993183842      1\n",
       "8833969610015322      1\n",
       "1657893561568985      1\n",
       "907883161698484       1\n",
       "5620115591039018      1\n",
       "4655532473617635      1\n",
       "7226228571158486      1\n",
       "8637344058859147      1\n",
       "9558694080069931      1\n",
       "6261175351521953      1\n",
       "5625607708848040      1\n",
       "8249534204731109      1\n",
       "8463458737785676      1\n",
       "4260111082051182      1\n",
       "6894949104612197      1\n",
       "2714004273523549      1\n",
       "3351408490818921      1\n",
       "539560330282592       1\n",
       "Name: id_lattes, Length: 2099, dtype: int64"
      ]
     },
     "execution_count": 123,
     "metadata": {},
     "output_type": "execute_result"
    }
   ],
   "source": [
    "result.id_lattes.value_counts()"
   ]
  },
  {
   "cell_type": "code",
   "execution_count": 113,
   "metadata": {},
   "outputs": [
    {
     "data": {
      "text/plain": [
       "<matplotlib.axes._subplots.AxesSubplot at 0x7f3a64e468d0>"
      ]
     },
     "execution_count": 113,
     "metadata": {},
     "output_type": "execute_result"
    },
    {
     "data": {
      "image/png": "[encoded data removed]",
      "text/plain": [
       "<Figure size 432x288 with 1 Axes>"
      ]
     },
     "metadata": {
      "needs_background": "light"
     },
     "output_type": "display_data"
    }
   ],
   "source": [
    "result.id_lattes.value_counts()[:15].plot.bar()"
   ]
  },
  {
   "cell_type": "code",
   "execution_count": 125,
   "metadata": {},
   "outputs": [
    {
     "data": {
      "text/plain": [
       "array(['Patente', 'Software'], dtype=object)"
      ]
     },
     "execution_count": 125,
     "metadata": {},
     "output_type": "execute_result"
    }
   ],
   "source": [
    "a = result.loc[result.id_lattes==1061566045001511]\n",
    "a.tipo.unique()"
   ]
  },
  {
   "cell_type": "code",
   "execution_count": null,
   "metadata": {},
   "outputs": [],
   "source": []
  }
 ],
 "metadata": {
  "kernelspec": {
   "display_name": "Python 3",
   "language": "python",
   "name": "python3"
  },
  "language_info": {
   "codemirror_mode": {
    "name": "ipython",
    "version": 3
   },
   "file_extension": ".py",
   "mimetype": "text/x-python",
   "name": "python",
   "nbconvert_exporter": "python",
   "pygments_lexer": "ipython3",
   "version": "3.5.2"
  }
 },
 "nbformat": 4,
 "nbformat_minor": 2
}
