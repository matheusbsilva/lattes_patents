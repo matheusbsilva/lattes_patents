{
 "cells": [
  {
   "cell_type": "code",
   "execution_count": 181,
   "metadata": {},
   "outputs": [],
   "source": [
    "import pandas as pd\n",
    "import numpy as np\n",
    "import matplotlib.pyplot as plt"
   ]
  },
  {
   "cell_type": "markdown",
   "metadata": {},
   "source": [
    "Imports de todos os excel"
   ]
  },
  {
   "cell_type": "code",
   "execution_count": 182,
   "metadata": {},
   "outputs": [],
   "source": [
    "patentes = pd.read_excel('../patentes/patentes.xlsx',sheet_name = 'Sheet1')\n",
    "# patentes = pd.read_excel('../patentes-new/patentes.xlsx') "
   ]
  },
  {
   "cell_type": "code",
   "execution_count": 183,
   "metadata": {},
   "outputs": [],
   "source": [
    "marcas = pd.read_excel('../patentes/marca.xlsx',sheet_name = 'Sheet1')\n",
    "# marcas = pd.read_excel('../patentes-new/marcas.xlsx')"
   ]
  },
  {
   "cell_type": "code",
   "execution_count": 184,
   "metadata": {},
   "outputs": [],
   "source": [
    "software = pd.read_excel('../patentes/software.xlsx',sheet_name = 'Sheet1') \n",
    "# software = pd.read_excel('../patentes-new/software.xlsx') "
   ]
  },
  {
   "cell_type": "code",
   "execution_count": 185,
   "metadata": {},
   "outputs": [],
   "source": [
    "desenho = pd.read_excel('../patentes/desenho.xlsx',sheet_name = 'Sheet1') \n",
    "# desenho = pd.read_excel('../patentes-new/desenhos.xlsx') "
   ]
  },
  {
   "cell_type": "code",
   "execution_count": 186,
   "metadata": {},
   "outputs": [],
   "source": [
    "topografia = pd.read_excel('../patentes/topografia.xlsx',sheet_name = 'Sheet1')\n",
    "# topografia = pd.read_excel('../patentes-new/topografia.xlsx')"
   ]
  },
  {
   "cell_type": "code",
   "execution_count": 187,
   "metadata": {},
   "outputs": [],
   "source": [
    "cultivar_registrada = pd.read_excel('../patentes/cultivar_registrada.xlsx',sheet_name = 'Sheet1') \n",
    "# cultivar_registrada = pd.read_excel('../patentes-new/cultivar-registrada.xlsx')"
   ]
  },
  {
   "cell_type": "code",
   "execution_count": 188,
   "metadata": {},
   "outputs": [],
   "source": [
    "cultivar_protegida = pd.read_excel('../patentes/cultivar_protegida.xlsx',sheet_name = 'Sheet1') \n",
    "# cultivar_protegida = pd.read_excel('../patentes-new/cultivar-protegida.xlsx')"
   ]
  },
  {
   "cell_type": "markdown",
   "metadata": {},
   "source": [
    "## Passo 1: Análise geral das tabelas\n",
    "\n",
    "Para que possa realizar a junção em uma única tabela"
   ]
  },
  {
   "cell_type": "markdown",
   "metadata": {},
   "source": [
    "### Patentes"
   ]
  },
  {
   "cell_type": "code",
   "execution_count": 189,
   "metadata": {},
   "outputs": [
    {
     "data": {
      "text/html": [
       "<div>\n",
       "<style scoped>\n",
       "    .dataframe tbody tr th:only-of-type {\n",
       "        vertical-align: middle;\n",
       "    }\n",
       "\n",
       "    .dataframe tbody tr th {\n",
       "        vertical-align: top;\n",
       "    }\n",
       "\n",
       "    .dataframe thead th {\n",
       "        text-align: right;\n",
       "    }\n",
       "</style>\n",
       "<table border=\"1\" class=\"dataframe\">\n",
       "  <thead>\n",
       "    <tr style=\"text-align: right;\">\n",
       "      <th></th>\n",
       "      <th>id_lattes</th>\n",
       "      <th>respondeu</th>\n",
       "      <th>inct</th>\n",
       "      <th>grupo_tematico</th>\n",
       "      <th>membro_status</th>\n",
       "      <th>nome_completo</th>\n",
       "      <th>id_patente</th>\n",
       "      <th>titulo_patente</th>\n",
       "      <th>ano_desenvolvimento</th>\n",
       "      <th>pais</th>\n",
       "      <th>...</th>\n",
       "      <th>palavra_chave_5</th>\n",
       "      <th>palavra_chave_6</th>\n",
       "      <th>setor_de_atividade_1</th>\n",
       "      <th>setor_de_atividade_2</th>\n",
       "      <th>setor_de_atividade_3</th>\n",
       "      <th>descricao_info_adicionais</th>\n",
       "      <th>nome_completo_autores</th>\n",
       "      <th>nome_citacao_autores</th>\n",
       "      <th>ordem_autoria_autores</th>\n",
       "      <th>id_autores</th>\n",
       "    </tr>\n",
       "  </thead>\n",
       "  <tbody>\n",
       "    <tr>\n",
       "      <th>1</th>\n",
       "      <td>21199964477362</td>\n",
       "      <td>False</td>\n",
       "      <td>INCT de Catálise em Sistemas Moleculares e Nan...</td>\n",
       "      <td>Nanotecnologia</td>\n",
       "      <td>NaN</td>\n",
       "      <td>Bruno Szpoganicz</td>\n",
       "      <td>BR1020160063345</td>\n",
       "      <td>Nanopartículas superparamagnéticas (NPMs) de F...</td>\n",
       "      <td>2016</td>\n",
       "      <td>Brasil</td>\n",
       "      <td>...</td>\n",
       "      <td>NaN</td>\n",
       "      <td>NaN</td>\n",
       "      <td>Atividades de atenção à saúde humana</td>\n",
       "      <td>NaN</td>\n",
       "      <td>NaN</td>\n",
       "      <td>Nanopartículas superparamagnéticas (NPMs) de F...</td>\n",
       "      <td>ZOTTIS, ALEXANDRE D´AGOSTINI; Luiciano R. S. L...</td>\n",
       "      <td>ZOTTIS, ALEXANDRE D´AGOSTINI; LARA, L. R. S.; ...</td>\n",
       "      <td>1; 10; 11; 2; 3; 4; 5; 6; 7; 8; 9</td>\n",
       "      <td>VAZIO; VAZIO; VAZIO; VAZIO; VAZIO; VAZIO; 5839...</td>\n",
       "    </tr>\n",
       "    <tr>\n",
       "      <th>2</th>\n",
       "      <td>21199964477362</td>\n",
       "      <td>False</td>\n",
       "      <td>INCT de Catálise em Sistemas Moleculares e Nan...</td>\n",
       "      <td>Nanotecnologia</td>\n",
       "      <td>NaN</td>\n",
       "      <td>Bruno Szpoganicz</td>\n",
       "      <td>BR10201601548</td>\n",
       "      <td>NANOPARTÍCULAS SUPERPARAMAGNÉTICAS DE FE3O4 RE...</td>\n",
       "      <td>2016</td>\n",
       "      <td>Brasil</td>\n",
       "      <td>...</td>\n",
       "      <td>NaN</td>\n",
       "      <td>NaN</td>\n",
       "      <td>Atividades de atenção à saúde humana</td>\n",
       "      <td>NaN</td>\n",
       "      <td>NaN</td>\n",
       "      <td>NANOPARTÍCULAS SUPERPARAMAGNÉTICAS DE FE3O4 RE...</td>\n",
       "      <td>ZOTTIS, ALEXANDRE D´AGOSTINI; Luiciano R. S. L...</td>\n",
       "      <td>ZOTTIS, ALEXANDRE D´AGOSTINI; LARA, L. R. S.; ...</td>\n",
       "      <td>1; 10; 11; 2; 3; 4; 5; 6; 7; 8; 9; 1; 2; 3; 4;...</td>\n",
       "      <td>VAZIO; VAZIO; VAZIO; VAZIO; VAZIO; VAZIO; 5839...</td>\n",
       "    </tr>\n",
       "    <tr>\n",
       "      <th>3</th>\n",
       "      <td>22988322449627</td>\n",
       "      <td>True</td>\n",
       "      <td>INCT de Ciencias dos Materiais em Nanotecnologia</td>\n",
       "      <td>Nanotecnologia</td>\n",
       "      <td>NaN</td>\n",
       "      <td>Antonio Eduardo Martinelli</td>\n",
       "      <td>PI1002937</td>\n",
       "      <td>PROCESSO PARA TRATAMENTO DE ÁGUAS CONTAMINADAS...</td>\n",
       "      <td>2010</td>\n",
       "      <td>Brasil</td>\n",
       "      <td>...</td>\n",
       "      <td>NaN</td>\n",
       "      <td>NaN</td>\n",
       "      <td>NaN</td>\n",
       "      <td>NaN</td>\n",
       "      <td>NaN</td>\n",
       "      <td>PROCESSO PARA TRATAMENTO DE ÁGUAS CONTAMINADAS...</td>\n",
       "      <td>Gaspar Gonzalez Maldonado; Marcus Antonio de F...</td>\n",
       "      <td>MALDONADO, Gaspar Gonzalez; MELO, Marcus Anton...</td>\n",
       "      <td>1; 2; 3; 4; 1; 2; 3; 4; 5; 6; 1; 2; 3; 4; 1; 2...</td>\n",
       "      <td>VAZIO; VAZIO; 5840621182000517; 33188717161115...</td>\n",
       "    </tr>\n",
       "    <tr>\n",
       "      <th>4</th>\n",
       "      <td>22988322449627</td>\n",
       "      <td>True</td>\n",
       "      <td>INCT de Ciencias dos Materiais em Nanotecnologia</td>\n",
       "      <td>Nanotecnologia</td>\n",
       "      <td>NaN</td>\n",
       "      <td>Antonio Eduardo Martinelli</td>\n",
       "      <td>PI11030968</td>\n",
       "      <td>FORMULAÇÕES DE MASSA CERÂMICA PARA REVESTIMENT...</td>\n",
       "      <td>2011</td>\n",
       "      <td>Brasil</td>\n",
       "      <td>...</td>\n",
       "      <td>NaN</td>\n",
       "      <td>NaN</td>\n",
       "      <td>NaN</td>\n",
       "      <td>NaN</td>\n",
       "      <td>NaN</td>\n",
       "      <td>A patente de invenção diz respeito ao uso de t...</td>\n",
       "      <td>Gaspar Gonzalez Maldonado; Marcus Antonio de F...</td>\n",
       "      <td>MALDONADO, Gaspar Gonzalez; MELO, Marcus Anton...</td>\n",
       "      <td>1; 2; 3; 4; 1; 2; 3; 4; 5; 6; 1; 2; 3; 4; 1; 2...</td>\n",
       "      <td>VAZIO; VAZIO; 5840621182000517; 33188717161115...</td>\n",
       "    </tr>\n",
       "    <tr>\n",
       "      <th>5</th>\n",
       "      <td>22988322449627</td>\n",
       "      <td>True</td>\n",
       "      <td>INCT de Ciencias dos Materiais em Nanotecnologia</td>\n",
       "      <td>Nanotecnologia</td>\n",
       "      <td>NaN</td>\n",
       "      <td>Antonio Eduardo Martinelli</td>\n",
       "      <td>PI06005438A2</td>\n",
       "      <td>PASTA CIMENTANTE GEOPOLIMERIZADA E MÉTODO DE P...</td>\n",
       "      <td>2006</td>\n",
       "      <td>Brasil</td>\n",
       "      <td>...</td>\n",
       "      <td>NaN</td>\n",
       "      <td>NaN</td>\n",
       "      <td>NaN</td>\n",
       "      <td>NaN</td>\n",
       "      <td>NaN</td>\n",
       "      <td>NaN</td>\n",
       "      <td>Gaspar Gonzalez Maldonado; Marcus Antonio de F...</td>\n",
       "      <td>MALDONADO, Gaspar Gonzalez; MELO, Marcus Anton...</td>\n",
       "      <td>1; 2; 3; 4; 1; 2; 3; 4; 5; 6; 1; 2; 3; 4; 1; 2...</td>\n",
       "      <td>VAZIO; VAZIO; 5840621182000517; 33188717161115...</td>\n",
       "    </tr>\n",
       "  </tbody>\n",
       "</table>\n",
       "<p>5 rows × 45 columns</p>\n",
       "</div>"
      ],
      "text/plain": [
       "        id_lattes  respondeu  \\\n",
       "1  21199964477362      False   \n",
       "2  21199964477362      False   \n",
       "3  22988322449627       True   \n",
       "4  22988322449627       True   \n",
       "5  22988322449627       True   \n",
       "\n",
       "                                                inct  grupo_tematico  \\\n",
       "1  INCT de Catálise em Sistemas Moleculares e Nan...  Nanotecnologia   \n",
       "2  INCT de Catálise em Sistemas Moleculares e Nan...  Nanotecnologia   \n",
       "3   INCT de Ciencias dos Materiais em Nanotecnologia  Nanotecnologia   \n",
       "4   INCT de Ciencias dos Materiais em Nanotecnologia  Nanotecnologia   \n",
       "5   INCT de Ciencias dos Materiais em Nanotecnologia  Nanotecnologia   \n",
       "\n",
       "   membro_status               nome_completo       id_patente  \\\n",
       "1            NaN            Bruno Szpoganicz  BR1020160063345   \n",
       "2            NaN            Bruno Szpoganicz    BR10201601548   \n",
       "3            NaN  Antonio Eduardo Martinelli        PI1002937   \n",
       "4            NaN  Antonio Eduardo Martinelli       PI11030968   \n",
       "5            NaN  Antonio Eduardo Martinelli     PI06005438A2   \n",
       "\n",
       "                                      titulo_patente  ano_desenvolvimento  \\\n",
       "1  Nanopartículas superparamagnéticas (NPMs) de F...                 2016   \n",
       "2  NANOPARTÍCULAS SUPERPARAMAGNÉTICAS DE FE3O4 RE...                 2016   \n",
       "3  PROCESSO PARA TRATAMENTO DE ÁGUAS CONTAMINADAS...                 2010   \n",
       "4  FORMULAÇÕES DE MASSA CERÂMICA PARA REVESTIMENT...                 2011   \n",
       "5  PASTA CIMENTANTE GEOPOLIMERIZADA E MÉTODO DE P...                 2006   \n",
       "\n",
       "     pais                        ...                         palavra_chave_5  \\\n",
       "1  Brasil                        ...                                     NaN   \n",
       "2  Brasil                        ...                                     NaN   \n",
       "3  Brasil                        ...                                     NaN   \n",
       "4  Brasil                        ...                                     NaN   \n",
       "5  Brasil                        ...                                     NaN   \n",
       "\n",
       "  palavra_chave_6                  setor_de_atividade_1 setor_de_atividade_2  \\\n",
       "1             NaN  Atividades de atenção à saúde humana                  NaN   \n",
       "2             NaN  Atividades de atenção à saúde humana                  NaN   \n",
       "3             NaN                                   NaN                  NaN   \n",
       "4             NaN                                   NaN                  NaN   \n",
       "5             NaN                                   NaN                  NaN   \n",
       "\n",
       "  setor_de_atividade_3                          descricao_info_adicionais  \\\n",
       "1                  NaN  Nanopartículas superparamagnéticas (NPMs) de F...   \n",
       "2                  NaN  NANOPARTÍCULAS SUPERPARAMAGNÉTICAS DE FE3O4 RE...   \n",
       "3                  NaN  PROCESSO PARA TRATAMENTO DE ÁGUAS CONTAMINADAS...   \n",
       "4                  NaN  A patente de invenção diz respeito ao uso de t...   \n",
       "5                  NaN                                                NaN   \n",
       "\n",
       "                               nome_completo_autores  \\\n",
       "1  ZOTTIS, ALEXANDRE D´AGOSTINI; Luiciano R. S. L...   \n",
       "2  ZOTTIS, ALEXANDRE D´AGOSTINI; Luiciano R. S. L...   \n",
       "3  Gaspar Gonzalez Maldonado; Marcus Antonio de F...   \n",
       "4  Gaspar Gonzalez Maldonado; Marcus Antonio de F...   \n",
       "5  Gaspar Gonzalez Maldonado; Marcus Antonio de F...   \n",
       "\n",
       "                                nome_citacao_autores  \\\n",
       "1  ZOTTIS, ALEXANDRE D´AGOSTINI; LARA, L. R. S.; ...   \n",
       "2  ZOTTIS, ALEXANDRE D´AGOSTINI; LARA, L. R. S.; ...   \n",
       "3  MALDONADO, Gaspar Gonzalez; MELO, Marcus Anton...   \n",
       "4  MALDONADO, Gaspar Gonzalez; MELO, Marcus Anton...   \n",
       "5  MALDONADO, Gaspar Gonzalez; MELO, Marcus Anton...   \n",
       "\n",
       "                               ordem_autoria_autores  \\\n",
       "1                  1; 10; 11; 2; 3; 4; 5; 6; 7; 8; 9   \n",
       "2  1; 10; 11; 2; 3; 4; 5; 6; 7; 8; 9; 1; 2; 3; 4;...   \n",
       "3  1; 2; 3; 4; 1; 2; 3; 4; 5; 6; 1; 2; 3; 4; 1; 2...   \n",
       "4  1; 2; 3; 4; 1; 2; 3; 4; 5; 6; 1; 2; 3; 4; 1; 2...   \n",
       "5  1; 2; 3; 4; 1; 2; 3; 4; 5; 6; 1; 2; 3; 4; 1; 2...   \n",
       "\n",
       "                                          id_autores  \n",
       "1  VAZIO; VAZIO; VAZIO; VAZIO; VAZIO; VAZIO; 5839...  \n",
       "2  VAZIO; VAZIO; VAZIO; VAZIO; VAZIO; VAZIO; 5839...  \n",
       "3  VAZIO; VAZIO; 5840621182000517; 33188717161115...  \n",
       "4  VAZIO; VAZIO; 5840621182000517; 33188717161115...  \n",
       "5  VAZIO; VAZIO; 5840621182000517; 33188717161115...  \n",
       "\n",
       "[5 rows x 45 columns]"
      ]
     },
     "execution_count": 189,
     "metadata": {},
     "output_type": "execute_result"
    }
   ],
   "source": [
    "patentes.head()"
   ]
  },
  {
   "cell_type": "code",
   "execution_count": 190,
   "metadata": {},
   "outputs": [
    {
     "data": {
      "text/plain": [
       "Index(['id_lattes', 'respondeu', 'inct', 'grupo_tematico', 'membro_status',\n",
       "       'nome_completo', 'id_patente', 'titulo_patente', 'ano_desenvolvimento',\n",
       "       'pais', 'meio_de_divulgacao', 'flag_relevancia',\n",
       "       'flag_potencial_inovacao', 'finalidade', 'instituicao_financiadora',\n",
       "       'categoria', 'tipo_patente', 'titulo_patente_reg',\n",
       "       'data_pedido_de_deposito', 'data_pedido_de_exame', 'data_de_concessao',\n",
       "       'instituicao_deposito_registro', 'numero_deposito_pct',\n",
       "       'formato_data_deposito_pct', 'data_deposito_pct', 'nome_titular',\n",
       "       'nome_depositante', 'sta_validacao', 'descricao_situacao',\n",
       "       'data_situacao', 'status_situacao', 'palavra_chave_1',\n",
       "       'palavra_chave_2', 'palavra_chave_3', 'palavra_chave_4',\n",
       "       'palavra_chave_5', 'palavra_chave_6', 'setor_de_atividade_1',\n",
       "       'setor_de_atividade_2', 'setor_de_atividade_3',\n",
       "       'descricao_info_adicionais', 'nome_completo_autores',\n",
       "       'nome_citacao_autores', 'ordem_autoria_autores', 'id_autores'],\n",
       "      dtype='object')"
      ]
     },
     "execution_count": 190,
     "metadata": {},
     "output_type": "execute_result"
    }
   ],
   "source": [
    "patentes.columns"
   ]
  },
  {
   "cell_type": "code",
   "execution_count": 191,
   "metadata": {},
   "outputs": [],
   "source": [
    "patentes['tipo']='Patente'"
   ]
  },
  {
   "cell_type": "code",
   "execution_count": 192,
   "metadata": {},
   "outputs": [],
   "source": [
    "df_pat = patentes[['id_lattes','respondeu', 'inct','grupo_tematico','ano_desenvolvimento', 'pais','flag_relevancia','flag_potencial_inovacao','instituicao_deposito_registro','instituicao_financiadora','id_patente','tipo']].copy()"
   ]
  },
  {
   "cell_type": "markdown",
   "metadata": {},
   "source": [
    "### Marcas"
   ]
  },
  {
   "cell_type": "code",
   "execution_count": 193,
   "metadata": {},
   "outputs": [
    {
     "data": {
      "text/plain": [
       "Index(['id_lattes', 'respondeu', 'inct', 'grupo_tematico', 'membro_status',\n",
       "       'nome_completo', 'id_patente', 'titulo_marca', 'ano_desenvolvimento',\n",
       "       'pais', 'flag_relevancia', 'titulo_ingles', 'flag_potencial_inovacao',\n",
       "       'finalidade', 'finalidade_ingles', 'natureza', 'tipo_patente',\n",
       "       'titulo_patente_reg', 'data_pedido_de_deposito', 'data_pedido_de_exame',\n",
       "       'data_de_concessao', 'instituicao_deposito_registro',\n",
       "       'numero_deposito_pct', 'formato_data_deposito_pct', 'data_deposito_pct',\n",
       "       'nome_titular', 'nome_depositante', 'sta_validacao',\n",
       "       'nome_grande_area_do_conhecimento', 'nome_da_area_do_conhecimento',\n",
       "       'nome_da_sub_area_do_conhecimento', 'nome_da_especialidade',\n",
       "       'palavra_chave_1', 'palavra_chave_2', 'palavra_chave_3',\n",
       "       'palavra_chave_4', 'palavra_chave_5', 'palavra_chave_6',\n",
       "       'setor_de_atividade_1', 'setor_de_atividade_2', 'setor_de_atividade_3',\n",
       "       'nome_completo_autores', 'nome_citacao_autores',\n",
       "       'ordem_autoria_autores', 'id_autores'],\n",
       "      dtype='object')"
      ]
     },
     "execution_count": 193,
     "metadata": {},
     "output_type": "execute_result"
    }
   ],
   "source": [
    "marcas.columns"
   ]
  },
  {
   "cell_type": "code",
   "execution_count": 194,
   "metadata": {},
   "outputs": [],
   "source": [
    "marcas['tipo']='Marca'\n",
    "marcas['instituicao_financiadora'] = 'Não possui'#np.NaN"
   ]
  },
  {
   "cell_type": "code",
   "execution_count": 195,
   "metadata": {},
   "outputs": [],
   "source": [
    "df_marcas = marcas[['id_lattes','respondeu','inct','grupo_tematico','ano_desenvolvimento','pais','flag_relevancia','flag_potencial_inovacao','instituicao_deposito_registro','instituicao_financiadora','id_patente','tipo']].copy()"
   ]
  },
  {
   "cell_type": "markdown",
   "metadata": {},
   "source": [
    "### Software"
   ]
  },
  {
   "cell_type": "code",
   "execution_count": 196,
   "metadata": {},
   "outputs": [
    {
     "data": {
      "text/plain": [
       "Index(['id_lattes', 'respondeu', 'inct', 'grupo_tematico', 'membro_status',\n",
       "       'nome_completo', 'id_patente', 'titulo_software', 'ano_desenvolvimento',\n",
       "       'pais', 'idioma', 'flag_relevancia', 'doi', 'meio_de_divulgacao',\n",
       "       'titulo_ingles', 'flag_potencial_inovacao',\n",
       "       'flag_divulgacao_cientifica', 'plataforma', 'disponibilidade',\n",
       "       'finalidade', 'finalidade_ingles', 'ambiente',\n",
       "       'instituicao_financiadora', 'tipo_patente', 'titulo_patente_reg',\n",
       "       'data_pedido_de_deposito', 'data_pedido_de_exame', 'data_de_concessao',\n",
       "       'instituicao_deposito_registro', 'numero_deposito_pct',\n",
       "       'formato_data_deposito_pct', 'data_deposito_pct', 'nome_titular',\n",
       "       'nome_depositante', 'sta_validacao', 'nome_grande_area_do_conhecimento',\n",
       "       'nome_da_area_do_conhecimento', 'nome_da_sub_area_do_conhecimento',\n",
       "       'nome_da_especialidade', 'palavra_chave_1', 'palavra_chave_2',\n",
       "       'palavra_chave_3', 'palavra_chave_4', 'palavra_chave_5',\n",
       "       'palavra_chave_6', 'setor_de_atividade_1', 'setor_de_atividade_2',\n",
       "       'setor_de_atividade_3', 'nome_completo_autores', 'nome_citacao_autores',\n",
       "       'ordem_autoria_autores', 'id_autores'],\n",
       "      dtype='object')"
      ]
     },
     "execution_count": 196,
     "metadata": {},
     "output_type": "execute_result"
    }
   ],
   "source": [
    "software.columns"
   ]
  },
  {
   "cell_type": "code",
   "execution_count": 197,
   "metadata": {},
   "outputs": [],
   "source": [
    "software['tipo']='Software'"
   ]
  },
  {
   "cell_type": "code",
   "execution_count": 198,
   "metadata": {},
   "outputs": [],
   "source": [
    "df_sof = software[['id_lattes','respondeu','inct','grupo_tematico','ano_desenvolvimento','pais','flag_relevancia','flag_potencial_inovacao','instituicao_deposito_registro','instituicao_financiadora','id_patente','tipo']].copy()"
   ]
  },
  {
   "cell_type": "markdown",
   "metadata": {},
   "source": [
    "### Desenho"
   ]
  },
  {
   "cell_type": "code",
   "execution_count": 199,
   "metadata": {},
   "outputs": [
    {
     "data": {
      "text/plain": [
       "Index(['id_lattes', 'respondeu', 'inct', 'grupo_tematico', 'membro_status',\n",
       "       'nome_completo', 'id_patente', 'titulo_marca', 'ano_desenvolvimento',\n",
       "       'pais', 'flag_relevancia', 'titulo_ingles', 'flag_potencial_inovacao',\n",
       "       'finalidade', 'instituicao_financiadora', 'finalidade_ingles',\n",
       "       'tipo_patente', 'titulo_patente_reg', 'data_pedido_de_deposito',\n",
       "       'data_pedido_de_exame', 'data_de_concessao',\n",
       "       'instituicao_deposito_registro', 'numero_deposito_pct',\n",
       "       'formato_data_deposito_pct', 'data_deposito_pct', 'nome_titular',\n",
       "       'nome_depositante', 'nome_grande_area_do_conhecimento',\n",
       "       'nome_da_area_do_conhecimento', 'nome_da_sub_area_do_conhecimento',\n",
       "       'nome_da_especialidade', 'nome_completo_autores',\n",
       "       'nome_citacao_autores', 'ordem_autoria_autores', 'id_autores'],\n",
       "      dtype='object')"
      ]
     },
     "execution_count": 199,
     "metadata": {},
     "output_type": "execute_result"
    }
   ],
   "source": [
    "desenho.columns"
   ]
  },
  {
   "cell_type": "code",
   "execution_count": 200,
   "metadata": {},
   "outputs": [],
   "source": [
    "desenho['tipo'] = 'Desenho'"
   ]
  },
  {
   "cell_type": "code",
   "execution_count": 201,
   "metadata": {},
   "outputs": [],
   "source": [
    "df_desenho = desenho[['id_lattes','respondeu','inct','grupo_tematico','ano_desenvolvimento','pais','flag_relevancia','flag_potencial_inovacao','instituicao_deposito_registro','instituicao_financiadora','id_patente','tipo']].copy()"
   ]
  },
  {
   "cell_type": "markdown",
   "metadata": {},
   "source": [
    "### Topografia"
   ]
  },
  {
   "cell_type": "code",
   "execution_count": 202,
   "metadata": {},
   "outputs": [
    {
     "data": {
      "text/plain": [
       "Index(['id_lattes', 'respondeu', 'inct', 'grupo_tematico', 'membro_status',\n",
       "       'nome_completo', 'id_patente', 'titulo_topografia',\n",
       "       'ano_desenvolvimento', 'pais', 'flag_relevancia', 'titulo_ingles',\n",
       "       'flag_potencial_inovacao', 'finalidade', 'instituicao_financiadora',\n",
       "       'finalidade_ingles', 'tipo_patente', 'titulo_patente_reg',\n",
       "       'data_pedido_de_deposito', 'data_pedido_de_exame', 'data_de_concessao',\n",
       "       'instituicao_deposito_registro', 'numero_deposito_pct',\n",
       "       'formato_data_deposito_pct', 'data_deposito_pct', 'nome_titular',\n",
       "       'nome_depositante', 'sta_validacao', 'descricao_info_adicionais',\n",
       "       'nome_completo_autores', 'nome_citacao_autores',\n",
       "       'ordem_autoria_autores', 'id_autores'],\n",
       "      dtype='object')"
      ]
     },
     "execution_count": 202,
     "metadata": {},
     "output_type": "execute_result"
    }
   ],
   "source": [
    "topografia.columns"
   ]
  },
  {
   "cell_type": "code",
   "execution_count": 203,
   "metadata": {},
   "outputs": [],
   "source": [
    "topografia['tipo']='Topografia'"
   ]
  },
  {
   "cell_type": "code",
   "execution_count": 204,
   "metadata": {},
   "outputs": [],
   "source": [
    "df_topografia = topografia[['id_lattes','respondeu','inct','grupo_tematico','ano_desenvolvimento','pais','flag_relevancia','flag_potencial_inovacao','instituicao_deposito_registro','instituicao_financiadora','id_patente','tipo']].copy()"
   ]
  },
  {
   "cell_type": "markdown",
   "metadata": {},
   "source": [
    "### Cultivar Registrada"
   ]
  },
  {
   "cell_type": "code",
   "execution_count": 205,
   "metadata": {},
   "outputs": [
    {
     "data": {
      "text/plain": [
       "Index(['id_lattes', 'respondeu', 'inct', 'grupo_tematico', 'membro_status',\n",
       "       'nome_completo', 'id_patente', 'denominacao', 'ano_solicitacao', 'pais',\n",
       "       'flag_relevancia', 'denominacao_ingles', 'flag_potencial_inovacao',\n",
       "       'finalidade', 'instituicao_financiadora', 'finalidade_ingles',\n",
       "       'titulo_patente_reg', 'data_pedido_de_deposito', 'data_pedido_de_exame',\n",
       "       'data_de_concessao', 'instituicao_deposito_registro',\n",
       "       'numero_deposito_pct', 'formato_data_deposito_pct', 'data_deposito_pct',\n",
       "       'nome_titular', 'nome_depositante', 'sta_validacao',\n",
       "       'nome_grande_area_do_conhecimento_1', 'nome_da_area_do_conhecimento_1',\n",
       "       'nome_da_sub_area_do_conhecimento_1', 'nome_da_especialidade_1',\n",
       "       'nome_grande_area_do_conhecimento_2', 'nome_da_area_do_conhecimento_2',\n",
       "       'nome_da_sub_area_do_conhecimento_2', 'nome_da_especialidade_2',\n",
       "       'setor_de_atividade_1', 'setor_de_atividade_2', 'setor_de_atividade_3',\n",
       "       'nome_completo_autores', 'nome_citacao_autores',\n",
       "       'ordem_autoria_autores', 'id_autores'],\n",
       "      dtype='object')"
      ]
     },
     "execution_count": 205,
     "metadata": {},
     "output_type": "execute_result"
    }
   ],
   "source": [
    "cultivar_registrada.columns"
   ]
  },
  {
   "cell_type": "code",
   "execution_count": 206,
   "metadata": {},
   "outputs": [],
   "source": [
    "cultivar_registrada.rename(columns={'ano_solicitacao': 'ano_desenvolvimento'}, inplace=True)"
   ]
  },
  {
   "cell_type": "code",
   "execution_count": 207,
   "metadata": {},
   "outputs": [],
   "source": [
    "cultivar_registrada['tipo'] = 'Cultivar Registrada'"
   ]
  },
  {
   "cell_type": "code",
   "execution_count": 208,
   "metadata": {},
   "outputs": [],
   "source": [
    "df_cultivar_registrada = cultivar_registrada[['id_lattes','respondeu','inct','grupo_tematico','ano_desenvolvimento','pais','flag_relevancia','flag_potencial_inovacao','instituicao_deposito_registro','instituicao_financiadora','id_patente','tipo']].copy()"
   ]
  },
  {
   "cell_type": "markdown",
   "metadata": {},
   "source": [
    "### Cultivar Protegida"
   ]
  },
  {
   "cell_type": "code",
   "execution_count": 209,
   "metadata": {},
   "outputs": [
    {
     "data": {
      "text/plain": [
       "Index(['id_lattes', 'respondeu', 'inct', 'grupo_tematico', 'membro_status',\n",
       "       'nome_completo', 'id_patente', 'denominacao', 'ano_solicitacao', 'pais',\n",
       "       'flag_relevancia', 'denominacao_ingles', 'flag_potencial_inovacao',\n",
       "       'finalidade', 'instituicao_financiadora', 'finalidade_ingles',\n",
       "       'titulo_patente_reg', 'data_pedido_de_deposito', 'data_pedido_de_exame',\n",
       "       'data_de_concessao', 'instituicao_deposito_registro',\n",
       "       'numero_deposito_pct', 'formato_data_deposito_pct', 'data_deposito_pct',\n",
       "       'nome_titular', 'nome_depositante', 'sta_validacao',\n",
       "       'nome_grande_area_do_conhecimento_1', 'nome_da_area_do_conhecimento_1',\n",
       "       'nome_da_sub_area_do_conhecimento_1', 'nome_da_especialidade_1',\n",
       "       'nome_grande_area_do_conhecimento_2', 'nome_da_area_do_conhecimento_2',\n",
       "       'nome_da_sub_area_do_conhecimento_2', 'nome_da_especialidade_2',\n",
       "       'setor_de_atividade_1', 'setor_de_atividade_2', 'setor_de_atividade_3',\n",
       "       'nome_completo_autores', 'nome_citacao_autores',\n",
       "       'ordem_autoria_autores', 'id_autores'],\n",
       "      dtype='object')"
      ]
     },
     "execution_count": 209,
     "metadata": {},
     "output_type": "execute_result"
    }
   ],
   "source": [
    "cultivar_protegida.columns"
   ]
  },
  {
   "cell_type": "code",
   "execution_count": 210,
   "metadata": {},
   "outputs": [],
   "source": [
    "cultivar_protegida.rename(columns={'ano_solicitacao': 'ano_desenvolvimento'}, inplace=True)"
   ]
  },
  {
   "cell_type": "code",
   "execution_count": 211,
   "metadata": {},
   "outputs": [],
   "source": [
    "cultivar_protegida['tipo'] = 'Cultivar Protegida'"
   ]
  },
  {
   "cell_type": "code",
   "execution_count": 212,
   "metadata": {},
   "outputs": [],
   "source": [
    "df_cultivar_protegida = cultivar_protegida[['id_lattes','respondeu','inct','grupo_tematico','ano_desenvolvimento','pais','flag_relevancia','flag_potencial_inovacao','instituicao_deposito_registro','instituicao_financiadora','id_patente','tipo']]"
   ]
  },
  {
   "cell_type": "markdown",
   "metadata": {},
   "source": [
    "## Passo 2: Concatenar todas as tabelas"
   ]
  },
  {
   "cell_type": "code",
   "execution_count": 213,
   "metadata": {},
   "outputs": [],
   "source": [
    "frames = [df_pat, df_marcas, df_desenho, df_sof, df_topografia, df_cultivar_registrada, df_cultivar_protegida] \n",
    "\n",
    "result = pd.concat(frames)"
   ]
  },
  {
   "cell_type": "code",
   "execution_count": 214,
   "metadata": {},
   "outputs": [
    {
     "data": {
      "text/plain": [
       "10310"
      ]
     },
     "execution_count": 214,
     "metadata": {},
     "output_type": "execute_result"
    }
   ],
   "source": [
    "len(result)"
   ]
  },
  {
   "cell_type": "markdown",
   "metadata": {},
   "source": [
    "### Retira os espaço do início da string"
   ]
  },
  {
   "cell_type": "code",
   "execution_count": 215,
   "metadata": {},
   "outputs": [],
   "source": [
    "result['inct'] = result.inct.str.lstrip()\n",
    "# para retirar do final pode usar rstrip()"
   ]
  },
  {
   "cell_type": "code",
   "execution_count": 216,
   "metadata": {},
   "outputs": [
    {
     "data": {
      "text/html": [
       "<div>\n",
       "<style scoped>\n",
       "    .dataframe tbody tr th:only-of-type {\n",
       "        vertical-align: middle;\n",
       "    }\n",
       "\n",
       "    .dataframe tbody tr th {\n",
       "        vertical-align: top;\n",
       "    }\n",
       "\n",
       "    .dataframe thead th {\n",
       "        text-align: right;\n",
       "    }\n",
       "</style>\n",
       "<table border=\"1\" class=\"dataframe\">\n",
       "  <thead>\n",
       "    <tr style=\"text-align: right;\">\n",
       "      <th></th>\n",
       "      <th>id_lattes</th>\n",
       "      <th>respondeu</th>\n",
       "      <th>inct</th>\n",
       "      <th>grupo_tematico</th>\n",
       "      <th>ano_desenvolvimento</th>\n",
       "      <th>pais</th>\n",
       "      <th>flag_relevancia</th>\n",
       "      <th>flag_potencial_inovacao</th>\n",
       "      <th>instituicao_deposito_registro</th>\n",
       "      <th>instituicao_financiadora</th>\n",
       "      <th>id_patente</th>\n",
       "      <th>tipo</th>\n",
       "    </tr>\n",
       "  </thead>\n",
       "  <tbody>\n",
       "    <tr>\n",
       "      <th>735</th>\n",
       "      <td>1138639549823932</td>\n",
       "      <td>True</td>\n",
       "      <td>INCT de Óleo e Gás</td>\n",
       "      <td>Energia</td>\n",
       "      <td>2001.0</td>\n",
       "      <td>Brasil</td>\n",
       "      <td>SIM</td>\n",
       "      <td>NAO</td>\n",
       "      <td>NaN</td>\n",
       "      <td>Petrobras</td>\n",
       "      <td>PI96027452</td>\n",
       "      <td>Patente</td>\n",
       "    </tr>\n",
       "    <tr>\n",
       "      <th>3002</th>\n",
       "      <td>5408802153017996</td>\n",
       "      <td>True</td>\n",
       "      <td>INCT de Óleo e Gás</td>\n",
       "      <td>Energia</td>\n",
       "      <td>2009.0</td>\n",
       "      <td>Brasil</td>\n",
       "      <td>NAO</td>\n",
       "      <td>SIM</td>\n",
       "      <td>INPI - Instituto Nacional da Propriedade Indus...</td>\n",
       "      <td>PETROBRAS</td>\n",
       "      <td>PI09048847</td>\n",
       "      <td>Patente</td>\n",
       "    </tr>\n",
       "    <tr>\n",
       "      <th>385</th>\n",
       "      <td>630189208238912</td>\n",
       "      <td>True</td>\n",
       "      <td>INCT de Óleo e Gás</td>\n",
       "      <td>Energia</td>\n",
       "      <td>2005.0</td>\n",
       "      <td>Brasil</td>\n",
       "      <td>NAO</td>\n",
       "      <td>NAO</td>\n",
       "      <td>NaN</td>\n",
       "      <td>NaN</td>\n",
       "      <td>NaN</td>\n",
       "      <td>Software</td>\n",
       "    </tr>\n",
       "  </tbody>\n",
       "</table>\n",
       "</div>"
      ],
      "text/plain": [
       "             id_lattes  respondeu                inct grupo_tematico  \\\n",
       "735   1138639549823932       True  INCT de Óleo e Gás        Energia   \n",
       "3002  5408802153017996       True  INCT de Óleo e Gás        Energia   \n",
       "385    630189208238912       True  INCT de Óleo e Gás        Energia   \n",
       "\n",
       "      ano_desenvolvimento    pais flag_relevancia flag_potencial_inovacao  \\\n",
       "735                2001.0  Brasil             SIM                     NAO   \n",
       "3002               2009.0  Brasil             NAO                     SIM   \n",
       "385                2005.0  Brasil             NAO                     NAO   \n",
       "\n",
       "                          instituicao_deposito_registro  \\\n",
       "735                                                 NaN   \n",
       "3002  INPI - Instituto Nacional da Propriedade Indus...   \n",
       "385                                                 NaN   \n",
       "\n",
       "     instituicao_financiadora  id_patente      tipo  \n",
       "735                 Petrobras  PI96027452   Patente  \n",
       "3002                PETROBRAS  PI09048847   Patente  \n",
       "385                       NaN         NaN  Software  "
      ]
     },
     "execution_count": 216,
     "metadata": {},
     "output_type": "execute_result"
    }
   ],
   "source": [
    "result.loc[result.inct == 'INCT de Óleo e Gás'].head(3)"
   ]
  },
  {
   "cell_type": "markdown",
   "metadata": {},
   "source": [
    "## Passo 3: Análise exploratórioa"
   ]
  },
  {
   "cell_type": "markdown",
   "metadata": {},
   "source": [
    "Verifica a quantidade de produção de patentes e seus tipos"
   ]
  },
  {
   "cell_type": "code",
   "execution_count": 217,
   "metadata": {
    "scrolled": true
   },
   "outputs": [
    {
     "data": {
      "text/plain": [
       "<matplotlib.axes._subplots.AxesSubplot at 0x7f762275e2e8>"
      ]
     },
     "execution_count": 217,
     "metadata": {},
     "output_type": "execute_result"
    },
    {
     "data": {
      "image/png": "[encoded data removed]",
      "text/plain": [
       "<Figure size 432x288 with 1 Axes>"
      ]
     },
     "metadata": {
      "needs_background": "light"
     },
     "output_type": "display_data"
    }
   ],
   "source": [
    "result.tipo.value_counts().plot.bar()"
   ]
  },
  {
   "cell_type": "markdown",
   "metadata": {},
   "source": [
    "### Instituição depósito de registro"
   ]
  },
  {
   "cell_type": "code",
   "execution_count": 222,
   "metadata": {},
   "outputs": [],
   "source": [
    "result['instituicao_deposito_registro_tratada'] = map(lambda x: x.lower(), result['instituicao_deposito_registro'])"
   ]
  },
  {
   "cell_type": "code",
   "execution_count": 218,
   "metadata": {},
   "outputs": [],
   "source": [
    "df=result['instituicao_deposito_registro'] \n",
    "newdf=df.str.lower()"
   ]
  },
  {
   "cell_type": "code",
   "execution_count": 220,
   "metadata": {},
   "outputs": [
    {
     "data": {
      "text/plain": [
       "inpi - instituto nacional da propriedade industrial                     3355\n",
       "united states patent and trademark office                                279\n",
       "wipo - world intellectual property organization                          164\n",
       "ministério da agricultura, pecuária e abastecimento                      118\n",
       "ministério da agricultura, pecuária e abastecimento (mapa)                62\n",
       "ministério da agricultura, pecuária e abastecimento - mapa                50\n",
       "ioc / biomanguinhos                                                       34\n",
       "european patent office                                                    33\n",
       "japanese patent office                                                    27\n",
       "universidade federal de minas gerais                                      24\n",
       "ministério da agricultura                                                 19\n",
       "uk patent office                                                          16\n",
       "canadian intellectual property office                                     13\n",
       "wto - world trade organization                                            12\n",
       "russian federal committee for inventions                                  12\n",
       "german patent and trademark office                                        12\n",
       "universidade federal de minas gerais - ufmg                               11\n",
       "ufmg                                                                      10\n",
       "institut national de la propriete industrielle                            10\n",
       "serviço nacional de proteção de cultivares                                 9\n",
       "empresa brasileira de pesquisa agropecuária - embrapa                      9\n",
       "ministério da agricultura e abastecimento                                  8\n",
       "ctit / ufmg - coordenadoria de transferência e inovação tecnológica        8\n",
       "ioc / biomanguinhos / usp                                                  8\n",
       "serviço nacional de proteção de cultivares - mapa                          8\n",
       "serviço nacional de proteção de cultivares - snpc                          8\n",
       "inpi                                                                       7\n",
       "registro nacional de cultivares                                            7\n",
       "mapa/snpc                                                                  6\n",
       "ministério da agricultura - registro nacional de cultivares/rnc            6\n",
       "                                                                        ... \n",
       "índia                                                                      1\n",
       "european union                                                             1\n",
       "dirección nacional de la propiedad industrial -uruguay                     1\n",
       "centro de tecnologia estratégica do nordeste                               1\n",
       "derwent                                                                    1\n",
       "snpc - mapa                                                                1\n",
       "núcleo de inovação tecnológica (nit_ufc)                                   1\n",
       "ministerio da agricultura, pecuária e abastecimento - mapa                 1\n",
       "universisade federal juiz de fora (uyju-non-standard)                      1\n",
       "ericsson telecomunica es sa ( telf-c)                                      1\n",
       "frança                                                                     1\n",
       "superintendencia de industria y comercio                                   1\n",
       "cn - china                                                                 1\n",
       "brazilian patent                                                           1\n",
       "state intellectual property office of the people´s republic of china       1\n",
       "republic of korea                                                          1\n",
       "intellectual property india                                                1\n",
       "goteborgs patentbyra dahls                                                 1\n",
       "pct                                                                        1\n",
       "ioc / bio-manguinhos                                                       1\n",
       "organização mundial da propriedade intelectual                             1\n",
       "repartição de patentes da china                                            1\n",
       "intellectual property office                                               1\n",
       "estados unidos                                                             1\n",
       "escritório de direitos autorais                                            1\n",
       "instituto nacional de la propriedade industrial de la argentina            1\n",
       "peru                                                                       1\n",
       "espanha                                                                    1\n",
       "mexico                                                                     1\n",
       "instituto naciona de propriedade industrial                                1\n",
       "Name: instituicao_deposito_registro, Length: 229, dtype: int64"
      ]
     },
     "execution_count": 220,
     "metadata": {},
     "output_type": "execute_result"
    }
   ],
   "source": [
    "newdf.value_counts()"
   ]
  },
  {
   "cell_type": "code",
   "execution_count": 175,
   "metadata": {},
   "outputs": [],
   "source": [
    "result.instituicao_deposito_registro.value_counts()"
   ]
  },
  {
   "cell_type": "code",
   "execution_count": 171,
   "metadata": {},
   "outputs": [
    {
     "data": {
      "text/plain": [
       "229"
      ]
     },
     "execution_count": 171,
     "metadata": {},
     "output_type": "execute_result"
    }
   ],
   "source": [
    "len(result[result['instituicao_deposito_registro'].str.contains(\"Ministério da Agricultura, Pecuária e Abastecimento\")==True])"
   ]
  },
  {
   "cell_type": "markdown",
   "metadata": {},
   "source": [
    "### Instituição financiadora"
   ]
  },
  {
   "cell_type": "code",
   "execution_count": 168,
   "metadata": {},
   "outputs": [
    {
     "data": {
      "text/plain": [
       "FAPESP                                               101\n",
       "CNPq                                                  90\n",
       "Não possui                                            61\n",
       "Texas Instruments Incorporated  (Dallas, TX, EUA)     57\n",
       "UFMG                                                  39\n",
       "Embrapa Instrumentação Agropecuária                   37\n",
       "FIOCRUZ                                               36\n",
       "FAPEMIG                                               31\n",
       "Fapesp                                                27\n",
       "Unicamp                                               24\n",
       "Name: instituicao_financiadora, dtype: int64"
      ]
     },
     "execution_count": 168,
     "metadata": {},
     "output_type": "execute_result"
    }
   ],
   "source": [
    "result.instituicao_financiadora.value_counts()[:10]"
   ]
  },
  {
   "cell_type": "code",
   "execution_count": 164,
   "metadata": {},
   "outputs": [
    {
     "data": {
      "text/plain": [
       "(22, 390)"
      ]
     },
     "execution_count": 164,
     "metadata": {},
     "output_type": "execute_result"
    }
   ],
   "source": [
    "result.instituicao_financiadora.value_counts()\n",
    "\n",
    "CNPQ = len(result[result['instituicao_financiadora'].str.contains(\"CNPQ\")==True])\n",
    "CNPq = len(result[result['instituicao_financiadora'].str.contains(\"CNPq\")==True])\n",
    "CNPQ, CNPq"
   ]
  },
  {
   "cell_type": "code",
   "execution_count": 165,
   "metadata": {},
   "outputs": [
    {
     "data": {
      "text/plain": [
       "10310"
      ]
     },
     "execution_count": 165,
     "metadata": {},
     "output_type": "execute_result"
    }
   ],
   "source": [
    "len(result.instituicao_financiadora)"
   ]
  },
  {
   "cell_type": "code",
   "execution_count": null,
   "metadata": {},
   "outputs": [],
   "source": []
  },
  {
   "cell_type": "code",
   "execution_count": null,
   "metadata": {},
   "outputs": [],
   "source": [
    "possui_marcos_criticos = len(projetos.loc[~projetos.MarcosCriticosSuperadosRelativo.isna()])\n",
    "p_possui_marcos_criticos =  possui_marcos_criticos/ len(projetos)\n",
    "print ('Quantos projetos possuem marcos críticos: ' + str(possui_marcos_criticos))\n",
    "print ('Porcentagem: ' + str(p_possui_marcos_criticos))"
   ]
  },
  {
   "cell_type": "code",
   "execution_count": 135,
   "metadata": {},
   "outputs": [],
   "source": [
    "patente = result[result.tipo == 'Patente'].shape[0]\n",
    "software = result[result.tipo == 'Software'].shape[0]\n",
    "cultivar_reg = result[result.tipo == 'Cultivar Registrada'].shape[0]\n",
    "cultivar_prot = result[result.tipo == 'Cultivar Protegida'].shape[0]\n",
    "desenho = result[result.tipo == 'Desenho'].shape[0]\n",
    "marca = result[result.tipo == 'Marca'].shape[0]\n",
    "topografia = result[result.tipo == 'Topografia'].shape[0]"
   ]
  },
  {
   "cell_type": "code",
   "execution_count": 155,
   "metadata": {},
   "outputs": [
    {
     "data": {
      "text/plain": [
       "<matplotlib.axes._subplots.AxesSubplot at 0x7f762a5a2748>"
      ]
     },
     "execution_count": 155,
     "metadata": {},
     "output_type": "execute_result"
    },
    {
     "data": {
      "image/png": "[encoded data removed]",
      "text/plain": [
       "<Figure size 720x720 with 1 Axes>"
      ]
     },
     "metadata": {},
     "output_type": "display_data"
    }
   ],
   "source": [
    "explode = (0.1, 0)\n",
    "pd.DataFrame({'tipos': [patente,software,cultivar_reg,cultivar_prot,desenho,marca,topografia]},\n",
    "              index=['Patente','Software','Cultivar Registrada','Cultivar Protegida','Desenho','Marca','Topografia']).plot.pie(y='tipos', autopct='%1.1f%%', figsize=(10, 10))\n",
    "#plt.title('Projetos que possuem marcos críticos')"
   ]
  },
  {
   "cell_type": "code",
   "execution_count": null,
   "metadata": {},
   "outputs": [],
   "source": [
    "explode = (0.1, 0)\n",
    "pd.DataFrame({'projetos': [possui_marcos_criticos, len(projetos)-possui_marcos_criticos],\n",
    "              'marcos': [p_possui_marcos_criticos,1-p_possui_marcos_criticos]},\n",
    "              index=['Sim','Não']).plot.pie(y='marcos', explode=explode, autopct='%1.1f%%', figsize=(5, 5))\n",
    "plt.title('Projetos que possuem marcos críticos')"
   ]
  },
  {
   "cell_type": "code",
   "execution_count": 146,
   "metadata": {},
   "outputs": [
    {
     "data": {
      "text/plain": [
       "'Cultivar Registrada'"
      ]
     },
     "execution_count": 146,
     "metadata": {},
     "output_type": "execute_result"
    }
   ],
   "source": [
    "result.tipo.sort_values().value_counts().index[2]"
   ]
  },
  {
   "cell_type": "code",
   "execution_count": 137,
   "metadata": {},
   "outputs": [
    {
     "data": {
      "text/plain": [
       "5433"
      ]
     },
     "execution_count": 137,
     "metadata": {},
     "output_type": "execute_result"
    }
   ],
   "source": [
    "result[result.tipo == 'Patente'].shape[0]"
   ]
  },
  {
   "cell_type": "code",
   "execution_count": 129,
   "metadata": {},
   "outputs": [
    {
     "data": {
      "text/plain": [
       "Patente                5433\n",
       "Software               4340\n",
       "Cultivar Registrada     302\n",
       "Cultivar Protegida       96\n",
       "Desenho                  76\n",
       "Marca                    61\n",
       "Topografia                2\n",
       "Name: tipo, dtype: int64"
      ]
     },
     "execution_count": 129,
     "metadata": {},
     "output_type": "execute_result"
    }
   ],
   "source": [
    "result.tipo.value_counts()"
   ]
  },
  {
   "cell_type": "code",
   "execution_count": 39,
   "metadata": {},
   "outputs": [
    {
     "data": {
      "text/plain": [
       "<matplotlib.axes._subplots.AxesSubplot at 0x7f762982efd0>"
      ]
     },
     "execution_count": 39,
     "metadata": {},
     "output_type": "execute_result"
    },
    {
     "data": {
      "image/png": "[encoded data removed]",
      "text/plain": [
       "<Figure size 432x288 with 1 Axes>"
      ]
     },
     "metadata": {
      "needs_background": "light"
     },
     "output_type": "display_data"
    }
   ],
   "source": [
    "result.inct.value_counts().plot.bar()"
   ]
  },
  {
   "cell_type": "code",
   "execution_count": 40,
   "metadata": {},
   "outputs": [
    {
     "data": {
      "text/plain": [
       "2099"
      ]
     },
     "execution_count": 40,
     "metadata": {},
     "output_type": "execute_result"
    }
   ],
   "source": [
    "len(result.id_lattes.unique())"
   ]
  },
  {
   "cell_type": "code",
   "execution_count": 41,
   "metadata": {},
   "outputs": [
    {
     "data": {
      "text/plain": [
       "10310"
      ]
     },
     "execution_count": 41,
     "metadata": {},
     "output_type": "execute_result"
    }
   ],
   "source": [
    "len(result)"
   ]
  },
  {
   "cell_type": "code",
   "execution_count": 42,
   "metadata": {},
   "outputs": [
    {
     "data": {
      "text/plain": [
       "3252717320434089    135\n",
       "9545152910170494     83\n",
       "1061566045001511     78\n",
       "6507131548554325     72\n",
       "6191239140886028     67\n",
       "569614713880200      64\n",
       "1325247019367288     64\n",
       "2828124381670231     63\n",
       "7506578377321090     55\n",
       "3919711591553904     52\n",
       "5320044076881770     52\n",
       "7748064810111389     51\n",
       "6858139747014559     50\n",
       "9500245604678806     47\n",
       "9848311210578810     44\n",
       "7508554632929520     43\n",
       "7090419604571199     43\n",
       "291695624884565      42\n",
       "2365059843175411     40\n",
       "7992694643607149     40\n",
       "240551533292579      38\n",
       "7313722167100200     36\n",
       "7925449690046513     35\n",
       "4947860249518663     34\n",
       "8518698825437370     33\n",
       "1043780332502091     33\n",
       "9522788035526763     33\n",
       "4542759243110371     33\n",
       "3150074537946167     33\n",
       "3163271519013006     32\n",
       "                   ... \n",
       "8049184468038869      1\n",
       "8796898263583929      1\n",
       "2178533944807519      1\n",
       "5472101509640211      1\n",
       "5590258147022413      1\n",
       "232075212409214       1\n",
       "7014991384513854      1\n",
       "1741899845739117      1\n",
       "1029892667445223      1\n",
       "9578804482562433      1\n",
       "7304216246785522      1\n",
       "3098224583812072      1\n",
       "5284532993183842      1\n",
       "8833969610015322      1\n",
       "1657893561568985      1\n",
       "907883161698484       1\n",
       "5620115591039018      1\n",
       "4655532473617635      1\n",
       "7226228571158486      1\n",
       "8637344058859147      1\n",
       "9558694080069931      1\n",
       "6261175351521953      1\n",
       "5625607708848040      1\n",
       "8249534204731109      1\n",
       "8463458737785676      1\n",
       "4260111082051182      1\n",
       "6894949104612197      1\n",
       "2714004273523549      1\n",
       "3351408490818921      1\n",
       "539560330282592       1\n",
       "Name: id_lattes, Length: 2099, dtype: int64"
      ]
     },
     "execution_count": 42,
     "metadata": {},
     "output_type": "execute_result"
    }
   ],
   "source": [
    "result.id_lattes.value_counts()"
   ]
  },
  {
   "cell_type": "code",
   "execution_count": 43,
   "metadata": {},
   "outputs": [
    {
     "data": {
      "text/plain": [
       "<matplotlib.axes._subplots.AxesSubplot at 0x7f7629803b00>"
      ]
     },
     "execution_count": 43,
     "metadata": {},
     "output_type": "execute_result"
    },
    {
     "data": {
      "image/png": "[encoded data removed]",
      "text/plain": [
       "<Figure size 432x288 with 1 Axes>"
      ]
     },
     "metadata": {
      "needs_background": "light"
     },
     "output_type": "display_data"
    }
   ],
   "source": [
    "result.id_lattes.value_counts()[:15].plot.bar()"
   ]
  },
  {
   "cell_type": "code",
   "execution_count": 44,
   "metadata": {},
   "outputs": [
    {
     "data": {
      "text/plain": [
       "array(['Patente', 'Software'], dtype=object)"
      ]
     },
     "execution_count": 44,
     "metadata": {},
     "output_type": "execute_result"
    }
   ],
   "source": [
    "a = result.loc[result.id_lattes==1061566045001511]\n",
    "a.tipo.unique()"
   ]
  },
  {
   "cell_type": "code",
   "execution_count": 45,
   "metadata": {},
   "outputs": [
    {
     "data": {
      "text/plain": [
       "<matplotlib.axes._subplots.AxesSubplot at 0x7f76294af128>"
      ]
     },
     "execution_count": 45,
     "metadata": {},
     "output_type": "execute_result"
    },
    {
     "data": {
      "image/png": "[encoded data removed]",
      "text/plain": [
       "<Figure size 432x288 with 1 Axes>"
      ]
     },
     "metadata": {
      "needs_background": "light"
     },
     "output_type": "display_data"
    }
   ],
   "source": [
    "result.tipo.value_counts().plot.bar()"
   ]
  },
  {
   "cell_type": "code",
   "execution_count": null,
   "metadata": {},
   "outputs": [],
   "source": []
  },
  {
   "cell_type": "markdown",
   "metadata": {},
   "source": [
    "------------------------------------------------------------------"
   ]
  },
  {
   "cell_type": "code",
   "execution_count": 80,
   "metadata": {},
   "outputs": [],
   "source": [
    "# patentes.columns"
   ]
  },
  {
   "cell_type": "code",
   "execution_count": 81,
   "metadata": {},
   "outputs": [],
   "source": [
    "# patentes['tipo'] = 'Patente'"
   ]
  },
  {
   "cell_type": "code",
   "execution_count": 82,
   "metadata": {},
   "outputs": [],
   "source": [
    "# patentes.rename(columns={'TIPO.PATENTE': 'TIPO_PATENTE', 'ANO.DESENVOLVIMENTO': 'ANO_DESENVOLVIMENTO'}, inplace=True)"
   ]
  },
  {
   "cell_type": "code",
   "execution_count": 83,
   "metadata": {},
   "outputs": [],
   "source": [
    "# patentes.rename(columns={'FLAG.POTENCIAL.INOVACAO': 'FLAG_POTENCIAL_INOVACAO', 'ANO.DESENVOLVIMENTO': 'ANO_DESENVOLVIMENTO'}, inplace=True)"
   ]
  },
  {
   "cell_type": "code",
   "execution_count": 84,
   "metadata": {},
   "outputs": [],
   "source": [
    "# patentes.TIPO_PATENTE.value_counts()\n"
   ]
  },
  {
   "cell_type": "code",
   "execution_count": 85,
   "metadata": {},
   "outputs": [],
   "source": [
    "# df_patentes = patentes[['ID.LATTES','respondeu','inct','grupo_tematico','ANO.DESENVOLVIMENTO','PAIS','FLAG.POTENCIAL.INOVACAO','CODIGO.DO.REGISTRO.OU.PATENTE','tipo']].copy"
   ]
  },
  {
   "cell_type": "code",
   "execution_count": null,
   "metadata": {},
   "outputs": [],
   "source": []
  },
  {
   "cell_type": "code",
   "execution_count": null,
   "metadata": {},
   "outputs": [],
   "source": []
  },
  {
   "cell_type": "code",
   "execution_count": null,
   "metadata": {},
   "outputs": [],
   "source": []
  },
  {
   "cell_type": "code",
   "execution_count": null,
   "metadata": {},
   "outputs": [],
   "source": []
  },
  {
   "cell_type": "code",
   "execution_count": null,
   "metadata": {},
   "outputs": [],
   "source": []
  }
 ],
 "metadata": {
  "kernelspec": {
   "display_name": "Python 3",
   "language": "python",
   "name": "python3"
  },
  "language_info": {
   "codemirror_mode": {
    "name": "ipython",
    "version": 3
   },
   "file_extension": ".py",
   "mimetype": "text/x-python",
   "name": "python",
   "nbconvert_exporter": "python",
   "pygments_lexer": "ipython3",
   "version": "3.7.0"
  }
 },
 "nbformat": 4,
 "nbformat_minor": 2
}
