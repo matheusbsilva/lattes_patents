{
 "cells": [
  {
   "cell_type": "code",
   "execution_count": 1,
   "metadata": {},
   "outputs": [],
   "source": [
    "import pandas as pd\n",
    "import matplotlib.pyplot as plt"
   ]
  },
  {
   "cell_type": "code",
   "execution_count": 2,
   "metadata": {},
   "outputs": [],
   "source": [
    "df = pd.read_excel('../patentes/patentes.xlsx',sheet_name = 'Sheet1') "
   ]
  },
  {
   "cell_type": "code",
   "execution_count": 3,
   "metadata": {},
   "outputs": [
    {
     "data": {
      "text/plain": [
       "5433"
      ]
     },
     "execution_count": 3,
     "metadata": {},
     "output_type": "execute_result"
    }
   ],
   "source": [
    "len(df)"
   ]
  },
  {
   "cell_type": "code",
   "execution_count": 4,
   "metadata": {},
   "outputs": [
    {
     "data": {
      "text/plain": [
       "Index(['id_lattes', 'respondeu', 'inct', 'grupo_tematico', 'membro_status',\n",
       "       'nome_completo', 'id_patente', 'titulo_patente', 'ano_desenvolvimento',\n",
       "       'pais', 'meio_de_divulgacao', 'flag_relevancia',\n",
       "       'flag_potencial_inovacao', 'finalidade', 'instituicao_financiadora',\n",
       "       'categoria', 'tipo_patente', 'titulo_patente_reg',\n",
       "       'data_pedido_de_deposito', 'data_pedido_de_exame', 'data_de_concessao',\n",
       "       'instituicao_deposito_registro', 'numero_deposito_pct',\n",
       "       'formato_data_deposito_pct', 'data_deposito_pct', 'nome_titular',\n",
       "       'nome_depositante', 'sta_validacao', 'descricao_situacao',\n",
       "       'data_situacao', 'status_situacao', 'palavra_chave_1',\n",
       "       'palavra_chave_2', 'palavra_chave_3', 'palavra_chave_4',\n",
       "       'palavra_chave_5', 'palavra_chave_6', 'setor_de_atividade_1',\n",
       "       'setor_de_atividade_2', 'setor_de_atividade_3',\n",
       "       'descricao_info_adicionais', 'nome_completo_autores',\n",
       "       'nome_citacao_autores', 'ordem_autoria_autores', 'id_autores'],\n",
       "      dtype='object')"
      ]
     },
     "execution_count": 4,
     "metadata": {},
     "output_type": "execute_result"
    }
   ],
   "source": [
    "df.columns"
   ]
  },
  {
   "cell_type": "code",
   "execution_count": 5,
   "metadata": {
    "scrolled": true
   },
   "outputs": [
    {
     "data": {
      "text/plain": [
       "INCT de Sistemas Micro e Nanoeletrônicos                               286\n",
       " INCT em Materiais Complexos Funcionais                                285\n",
       "INCT de Vacinas                                                        277\n",
       "INCT de Catálise em Sistemas Moleculares e Nanoestruturados            253\n",
       "INCT de Fármacos e Medicamentos                                        246\n",
       " INCT de Ciencias dos Materiais em Nanotecnologia                      222\n",
       "INCT de Nanobiotecnologia                                              194\n",
       "INCT em Nano-Biofarmacêutica                                           193\n",
       "INCT de Nanomateriais de Carbono                                       166\n",
       "INCT em Fotônica para Comunicações Ópticas                             154\n",
       "INCT de Nanotecnologia para Marcadores Integrados                      152\n",
       "INCT do Bioetanol                                                      133\n",
       "INCT de Fotônica                                                       133\n",
       "INCT de Eletrônica Orgânica                                            112\n",
       "INCT de Óptica e Fotônica                                              102\n",
       "INCT em Toxinas                                                         95\n",
       " INCT de Bioanalitica                                                   93\n",
       "INCT em Dengue                                                          92\n",
       " INCT de Tecnologias Analiticas Avançadas                               89\n",
       " INCT de Engenharia de Superfícies                                      89\n",
       "INCT para Diagnóstico em Saúde Pública                                  77\n",
       "INCT em Células-Tronco e Terapia Celular                                73\n",
       "INCT de Controle Biorracional de Insetos Pragas                         72\n",
       "INCT para Fixação Biológica de Nitrogênio em Gramíneas                  71\n",
       " INCT de Estudos do Meio Ambiente                                       65\n",
       "INCT de Estudos do Espaço (Projeto CNPq )                               65\n",
       "INCT de Informação Genético-Sanitária da Pecuária Brasileira            65\n",
       "INCT de Medicina Molecular                                              64\n",
       "INCT de Biologia Estrutural e Bioimagem                                 64\n",
       "INCT de Entomologia Molecular                                           61\n",
       "                                                                      ... \n",
       "INCT para Convergência Digital                                          11\n",
       "INCT para Febres Hemorrágicas Virais                                    10\n",
       "INCT para o Controle das Intoxicações por Plantas                       10\n",
       "INCT em Refrigeração e Termofísica                                       9\n",
       " INCT de Reabilitação do Sistema Encosta-Planice                         9\n",
       "INCT Antártico de Pesquisas Ambientais                                   7\n",
       "INCT de Astrofísica                                                      7\n",
       "INCT de Geociências da Amazônia                                          7\n",
       "INCT em Engenharia da Irrigação                                          6\n",
       "INCT em Metrologia das Radiações na Medicina                             6\n",
       "INCT em Salinidade                                                       6\n",
       "INCT de Comunicações Sem Fio                                             5\n",
       "INCT de Sistemas Complexos                                               5\n",
       "INCT Virtual da Flora e dos Fungos                                       4\n",
       "INCT de Transferências de Materiais Continente-Oceano                    4\n",
       "INCTWeb - Instituto Nacional de Ciência e Tecnologia para a Web          3\n",
       "INCT de Toxicologia Aquática                                             3\n",
       "INCT em Biodiversidade e uso da Terra da Amazônia                        3\n",
       "INCT para Engenharia de Software                                         2\n",
       "INCT de Psiquiatria do Desenvolvimento para Crianças e Adolescentes      2\n",
       "INCT das Doenças do Papilomavirus                                        2\n",
       "INCT de Genética Médica Populacional                                     2\n",
       "INCT de Hormônios e Saúde da Mulher                                      2\n",
       " INCT de Arqueologia, Paleontologia  e Ambiente do Semi Árido            2\n",
       " INCT de Óleo e Gás                                                      2\n",
       "INCT dos Hymenoptera Parasitóides da Região Sudeste Brasileira           1\n",
       "INCT de Energias Renováveis e Eficiência Energética da Amazônia          1\n",
       "INCT para Avaliação de Tecnologias em Saúde                              1\n",
       "INCT em Fisiologia Comparada                                             1\n",
       "INCT de Políticas Públicas do Álcool e Outras Drogas                     1\n",
       "Name: inct, Length: 105, dtype: int64"
      ]
     },
     "execution_count": 5,
     "metadata": {},
     "output_type": "execute_result"
    }
   ],
   "source": [
    "df.inct.value_counts()"
   ]
  },
  {
   "cell_type": "code",
   "execution_count": 6,
   "metadata": {},
   "outputs": [
    {
     "data": {
      "text/plain": [
       "id_lattes                           0\n",
       "respondeu                           0\n",
       "inct                               11\n",
       "grupo_tematico                      0\n",
       "membro_status                    3522\n",
       "nome_completo                       0\n",
       "id_patente                          1\n",
       "titulo_patente                      0\n",
       "ano_desenvolvimento                 0\n",
       "pais                                0\n",
       "meio_de_divulgacao                  0\n",
       "flag_relevancia                     0\n",
       "flag_potencial_inovacao             0\n",
       "finalidade                       3435\n",
       "instituicao_financiadora         3460\n",
       "categoria                        1705\n",
       "tipo_patente                        2\n",
       "titulo_patente_reg                  0\n",
       "data_pedido_de_deposito           189\n",
       "data_pedido_de_exame             5041\n",
       "data_de_concessao                3884\n",
       "instituicao_deposito_registro    1758\n",
       "numero_deposito_pct              4616\n",
       "formato_data_deposito_pct           0\n",
       "data_deposito_pct                4913\n",
       "nome_titular                     5433\n",
       "nome_depositante                 2697\n",
       "sta_validacao                    5433\n",
       "descricao_situacao                341\n",
       "data_situacao                     342\n",
       "status_situacao                   341\n",
       "palavra_chave_1                  2957\n",
       "palavra_chave_2                  3197\n",
       "palavra_chave_3                  3672\n",
       "palavra_chave_4                  4487\n",
       "palavra_chave_5                  4949\n",
       "palavra_chave_6                  5213\n",
       "setor_de_atividade_1             3597\n",
       "setor_de_atividade_2             4949\n",
       "setor_de_atividade_3             5307\n",
       "descricao_info_adicionais        3680\n",
       "nome_completo_autores               0\n",
       "nome_citacao_autores                0\n",
       "ordem_autoria_autores               0\n",
       "id_autores                          0\n",
       "dtype: int64"
      ]
     },
     "execution_count": 6,
     "metadata": {},
     "output_type": "execute_result"
    }
   ],
   "source": [
    "df.isna().sum()"
   ]
  },
  {
   "cell_type": "code",
   "execution_count": 14,
   "metadata": {},
   "outputs": [
    {
     "data": {
      "text/plain": [
       "<matplotlib.axes._subplots.AxesSubplot at 0x7fdbed6391d0>"
      ]
     },
     "execution_count": 14,
     "metadata": {},
     "output_type": "execute_result"
    },
    {
     "data": {
      "image/png": "[encoded data removed]",
      "text/plain": [
       "<Figure size 432x288 with 1 Axes>"
      ]
     },
     "metadata": {
      "needs_background": "light"
     },
     "output_type": "display_data"
    }
   ],
   "source": [
    "df.groupby(['pais']).sum().id_lattes.sort_values(ascending=False).plot.bar()\n",
    "\n",
    "\n",
    "#df.pais.value_counts().plot()"
   ]
  },
  {
   "cell_type": "code",
   "execution_count": 15,
   "metadata": {},
   "outputs": [
    {
     "data": {
      "text/plain": [
       "Brasil            4567\n",
       "Estados Unidos     511\n",
       "França              45\n",
       "Alemanha            39\n",
       "Japão               31\n",
       "Canadá              26\n",
       "China               23\n",
       "Grã-Bretanha        18\n",
       "Rússia              17\n",
       "Bélgica             15\n",
       "Suiça               12\n",
       "Suécia              12\n",
       "Índia               11\n",
       "Argentina           11\n",
       "Inglaterra          10\n",
       "Colômbia             9\n",
       "Austrália            9\n",
       "Espanha              8\n",
       "México               7\n",
       "Coréia do Sul        7\n",
       "Portugal             7\n",
       "Cuba                 6\n",
       "África do Sul        4\n",
       "Austria              4\n",
       "Chile                4\n",
       "Venezuela            3\n",
       "Itália               3\n",
       "Peru                 3\n",
       "Holanda              3\n",
       "Hong Kong            1\n",
       "Eslováquia           1\n",
       "Nigéria              1\n",
       "Tailândia            1\n",
       "Bolívia              1\n",
       "Equador              1\n",
       "Noruega              1\n",
       "Uruguai              1\n",
       "Name: pais, dtype: int64"
      ]
     },
     "execution_count": 15,
     "metadata": {},
     "output_type": "execute_result"
    }
   ],
   "source": [
    "df.pais.value_counts()"
   ]
  },
  {
   "cell_type": "code",
   "execution_count": null,
   "metadata": {},
   "outputs": [],
   "source": []
  },
  {
   "cell_type": "code",
   "execution_count": 8,
   "metadata": {},
   "outputs": [
    {
     "ename": "NameError",
     "evalue": "name 'a' is not defined",
     "output_type": "error",
     "traceback": [
      "\u001b[0;31m---------------------------------------------------------------------------\u001b[0m",
      "\u001b[0;31mNameError\u001b[0m                                 Traceback (most recent call last)",
      "\u001b[0;32m<ipython-input-8-3ea7294e3859>\u001b[0m in \u001b[0;36m<module>\u001b[0;34m\u001b[0m\n\u001b[0;32m----> 1\u001b[0;31m \u001b[0ma\u001b[0m\u001b[0;34m[\u001b[0m\u001b[0;36m1\u001b[0m\u001b[0;34m]\u001b[0m\u001b[0;34m.\u001b[0m\u001b[0mlstrip\u001b[0m\u001b[0;34m(\u001b[0m\u001b[0;34m)\u001b[0m\u001b[0;34m\u001b[0m\u001b[0m\n\u001b[0m",
      "\u001b[0;31mNameError\u001b[0m: name 'a' is not defined"
     ]
    }
   ],
   "source": [
    "a[1].lstrip()"
   ]
  },
  {
   "cell_type": "code",
   "execution_count": 8,
   "metadata": {},
   "outputs": [
    {
     "data": {
      "text/html": [
       "<div>\n",
       "<style scoped>\n",
       "    .dataframe tbody tr th:only-of-type {\n",
       "        vertical-align: middle;\n",
       "    }\n",
       "\n",
       "    .dataframe tbody tr th {\n",
       "        vertical-align: top;\n",
       "    }\n",
       "\n",
       "    .dataframe thead th {\n",
       "        text-align: right;\n",
       "    }\n",
       "</style>\n",
       "<table border=\"1\" class=\"dataframe\">\n",
       "  <thead>\n",
       "    <tr style=\"text-align: right;\">\n",
       "      <th></th>\n",
       "      <th>id_lattes</th>\n",
       "      <th>respondeu</th>\n",
       "      <th>inct</th>\n",
       "      <th>grupo_tematico</th>\n",
       "      <th>membro_status</th>\n",
       "      <th>nome_completo</th>\n",
       "      <th>id_patente</th>\n",
       "      <th>titulo_patente</th>\n",
       "      <th>ano_desenvolvimento</th>\n",
       "      <th>pais</th>\n",
       "      <th>...</th>\n",
       "      <th>palavra_chave_5</th>\n",
       "      <th>palavra_chave_6</th>\n",
       "      <th>setor_de_atividade_1</th>\n",
       "      <th>setor_de_atividade_2</th>\n",
       "      <th>setor_de_atividade_3</th>\n",
       "      <th>descricao_info_adicionais</th>\n",
       "      <th>nome_completo_autores</th>\n",
       "      <th>nome_citacao_autores</th>\n",
       "      <th>ordem_autoria_autores</th>\n",
       "      <th>id_autores</th>\n",
       "    </tr>\n",
       "  </thead>\n",
       "  <tbody>\n",
       "    <tr>\n",
       "      <th>1</th>\n",
       "      <td>21199964477362</td>\n",
       "      <td>False</td>\n",
       "      <td>INCT de Catálise em Sistemas Moleculares e Nan...</td>\n",
       "      <td>Nanotecnologia</td>\n",
       "      <td>NaN</td>\n",
       "      <td>Bruno Szpoganicz</td>\n",
       "      <td>BR1020160063345</td>\n",
       "      <td>Nanopartículas superparamagnéticas (NPMs) de F...</td>\n",
       "      <td>2016</td>\n",
       "      <td>Brasil</td>\n",
       "      <td>...</td>\n",
       "      <td>NaN</td>\n",
       "      <td>NaN</td>\n",
       "      <td>Atividades de atenção à saúde humana</td>\n",
       "      <td>NaN</td>\n",
       "      <td>NaN</td>\n",
       "      <td>Nanopartículas superparamagnéticas (NPMs) de F...</td>\n",
       "      <td>ZOTTIS, ALEXANDRE D´AGOSTINI; Luiciano R. S. L...</td>\n",
       "      <td>ZOTTIS, ALEXANDRE D´AGOSTINI; LARA, L. R. S.; ...</td>\n",
       "      <td>1; 10; 11; 2; 3; 4; 5; 6; 7; 8; 9</td>\n",
       "      <td>VAZIO; VAZIO; VAZIO; VAZIO; VAZIO; VAZIO; 5839...</td>\n",
       "    </tr>\n",
       "    <tr>\n",
       "      <th>2</th>\n",
       "      <td>21199964477362</td>\n",
       "      <td>False</td>\n",
       "      <td>INCT de Catálise em Sistemas Moleculares e Nan...</td>\n",
       "      <td>Nanotecnologia</td>\n",
       "      <td>NaN</td>\n",
       "      <td>Bruno Szpoganicz</td>\n",
       "      <td>BR10201601548</td>\n",
       "      <td>NANOPARTÍCULAS SUPERPARAMAGNÉTICAS DE FE3O4 RE...</td>\n",
       "      <td>2016</td>\n",
       "      <td>Brasil</td>\n",
       "      <td>...</td>\n",
       "      <td>NaN</td>\n",
       "      <td>NaN</td>\n",
       "      <td>Atividades de atenção à saúde humana</td>\n",
       "      <td>NaN</td>\n",
       "      <td>NaN</td>\n",
       "      <td>NANOPARTÍCULAS SUPERPARAMAGNÉTICAS DE FE3O4 RE...</td>\n",
       "      <td>ZOTTIS, ALEXANDRE D´AGOSTINI; Luiciano R. S. L...</td>\n",
       "      <td>ZOTTIS, ALEXANDRE D´AGOSTINI; LARA, L. R. S.; ...</td>\n",
       "      <td>1; 10; 11; 2; 3; 4; 5; 6; 7; 8; 9; 1; 2; 3; 4;...</td>\n",
       "      <td>VAZIO; VAZIO; VAZIO; VAZIO; VAZIO; VAZIO; 5839...</td>\n",
       "    </tr>\n",
       "    <tr>\n",
       "      <th>3</th>\n",
       "      <td>22988322449627</td>\n",
       "      <td>True</td>\n",
       "      <td>INCT de Ciencias dos Materiais em Nanotecnologia</td>\n",
       "      <td>Nanotecnologia</td>\n",
       "      <td>NaN</td>\n",
       "      <td>Antonio Eduardo Martinelli</td>\n",
       "      <td>PI1002937</td>\n",
       "      <td>PROCESSO PARA TRATAMENTO DE ÁGUAS CONTAMINADAS...</td>\n",
       "      <td>2010</td>\n",
       "      <td>Brasil</td>\n",
       "      <td>...</td>\n",
       "      <td>NaN</td>\n",
       "      <td>NaN</td>\n",
       "      <td>NaN</td>\n",
       "      <td>NaN</td>\n",
       "      <td>NaN</td>\n",
       "      <td>PROCESSO PARA TRATAMENTO DE ÁGUAS CONTAMINADAS...</td>\n",
       "      <td>Gaspar Gonzalez Maldonado; Marcus Antonio de F...</td>\n",
       "      <td>MALDONADO, Gaspar Gonzalez; MELO, Marcus Anton...</td>\n",
       "      <td>1; 2; 3; 4; 1; 2; 3; 4; 5; 6; 1; 2; 3; 4; 1; 2...</td>\n",
       "      <td>VAZIO; VAZIO; 5840621182000517; 33188717161115...</td>\n",
       "    </tr>\n",
       "    <tr>\n",
       "      <th>4</th>\n",
       "      <td>22988322449627</td>\n",
       "      <td>True</td>\n",
       "      <td>INCT de Ciencias dos Materiais em Nanotecnologia</td>\n",
       "      <td>Nanotecnologia</td>\n",
       "      <td>NaN</td>\n",
       "      <td>Antonio Eduardo Martinelli</td>\n",
       "      <td>PI11030968</td>\n",
       "      <td>FORMULAÇÕES DE MASSA CERÂMICA PARA REVESTIMENT...</td>\n",
       "      <td>2011</td>\n",
       "      <td>Brasil</td>\n",
       "      <td>...</td>\n",
       "      <td>NaN</td>\n",
       "      <td>NaN</td>\n",
       "      <td>NaN</td>\n",
       "      <td>NaN</td>\n",
       "      <td>NaN</td>\n",
       "      <td>A patente de invenção diz respeito ao uso de t...</td>\n",
       "      <td>Gaspar Gonzalez Maldonado; Marcus Antonio de F...</td>\n",
       "      <td>MALDONADO, Gaspar Gonzalez; MELO, Marcus Anton...</td>\n",
       "      <td>1; 2; 3; 4; 1; 2; 3; 4; 5; 6; 1; 2; 3; 4; 1; 2...</td>\n",
       "      <td>VAZIO; VAZIO; 5840621182000517; 33188717161115...</td>\n",
       "    </tr>\n",
       "    <tr>\n",
       "      <th>5</th>\n",
       "      <td>22988322449627</td>\n",
       "      <td>True</td>\n",
       "      <td>INCT de Ciencias dos Materiais em Nanotecnologia</td>\n",
       "      <td>Nanotecnologia</td>\n",
       "      <td>NaN</td>\n",
       "      <td>Antonio Eduardo Martinelli</td>\n",
       "      <td>PI06005438A2</td>\n",
       "      <td>PASTA CIMENTANTE GEOPOLIMERIZADA E MÉTODO DE P...</td>\n",
       "      <td>2006</td>\n",
       "      <td>Brasil</td>\n",
       "      <td>...</td>\n",
       "      <td>NaN</td>\n",
       "      <td>NaN</td>\n",
       "      <td>NaN</td>\n",
       "      <td>NaN</td>\n",
       "      <td>NaN</td>\n",
       "      <td>NaN</td>\n",
       "      <td>Gaspar Gonzalez Maldonado; Marcus Antonio de F...</td>\n",
       "      <td>MALDONADO, Gaspar Gonzalez; MELO, Marcus Anton...</td>\n",
       "      <td>1; 2; 3; 4; 1; 2; 3; 4; 5; 6; 1; 2; 3; 4; 1; 2...</td>\n",
       "      <td>VAZIO; VAZIO; 5840621182000517; 33188717161115...</td>\n",
       "    </tr>\n",
       "  </tbody>\n",
       "</table>\n",
       "<p>5 rows × 45 columns</p>\n",
       "</div>"
      ],
      "text/plain": [
       "        id_lattes  respondeu  \\\n",
       "1  21199964477362      False   \n",
       "2  21199964477362      False   \n",
       "3  22988322449627       True   \n",
       "4  22988322449627       True   \n",
       "5  22988322449627       True   \n",
       "\n",
       "                                                inct  grupo_tematico  \\\n",
       "1  INCT de Catálise em Sistemas Moleculares e Nan...  Nanotecnologia   \n",
       "2  INCT de Catálise em Sistemas Moleculares e Nan...  Nanotecnologia   \n",
       "3   INCT de Ciencias dos Materiais em Nanotecnologia  Nanotecnologia   \n",
       "4   INCT de Ciencias dos Materiais em Nanotecnologia  Nanotecnologia   \n",
       "5   INCT de Ciencias dos Materiais em Nanotecnologia  Nanotecnologia   \n",
       "\n",
       "   membro_status               nome_completo       id_patente  \\\n",
       "1            NaN            Bruno Szpoganicz  BR1020160063345   \n",
       "2            NaN            Bruno Szpoganicz    BR10201601548   \n",
       "3            NaN  Antonio Eduardo Martinelli        PI1002937   \n",
       "4            NaN  Antonio Eduardo Martinelli       PI11030968   \n",
       "5            NaN  Antonio Eduardo Martinelli     PI06005438A2   \n",
       "\n",
       "                                      titulo_patente  ano_desenvolvimento  \\\n",
       "1  Nanopartículas superparamagnéticas (NPMs) de F...                 2016   \n",
       "2  NANOPARTÍCULAS SUPERPARAMAGNÉTICAS DE FE3O4 RE...                 2016   \n",
       "3  PROCESSO PARA TRATAMENTO DE ÁGUAS CONTAMINADAS...                 2010   \n",
       "4  FORMULAÇÕES DE MASSA CERÂMICA PARA REVESTIMENT...                 2011   \n",
       "5  PASTA CIMENTANTE GEOPOLIMERIZADA E MÉTODO DE P...                 2006   \n",
       "\n",
       "     pais                        ...                         palavra_chave_5  \\\n",
       "1  Brasil                        ...                                     NaN   \n",
       "2  Brasil                        ...                                     NaN   \n",
       "3  Brasil                        ...                                     NaN   \n",
       "4  Brasil                        ...                                     NaN   \n",
       "5  Brasil                        ...                                     NaN   \n",
       "\n",
       "  palavra_chave_6                  setor_de_atividade_1 setor_de_atividade_2  \\\n",
       "1             NaN  Atividades de atenção à saúde humana                  NaN   \n",
       "2             NaN  Atividades de atenção à saúde humana                  NaN   \n",
       "3             NaN                                   NaN                  NaN   \n",
       "4             NaN                                   NaN                  NaN   \n",
       "5             NaN                                   NaN                  NaN   \n",
       "\n",
       "  setor_de_atividade_3                          descricao_info_adicionais  \\\n",
       "1                  NaN  Nanopartículas superparamagnéticas (NPMs) de F...   \n",
       "2                  NaN  NANOPARTÍCULAS SUPERPARAMAGNÉTICAS DE FE3O4 RE...   \n",
       "3                  NaN  PROCESSO PARA TRATAMENTO DE ÁGUAS CONTAMINADAS...   \n",
       "4                  NaN  A patente de invenção diz respeito ao uso de t...   \n",
       "5                  NaN                                                NaN   \n",
       "\n",
       "                               nome_completo_autores  \\\n",
       "1  ZOTTIS, ALEXANDRE D´AGOSTINI; Luiciano R. S. L...   \n",
       "2  ZOTTIS, ALEXANDRE D´AGOSTINI; Luiciano R. S. L...   \n",
       "3  Gaspar Gonzalez Maldonado; Marcus Antonio de F...   \n",
       "4  Gaspar Gonzalez Maldonado; Marcus Antonio de F...   \n",
       "5  Gaspar Gonzalez Maldonado; Marcus Antonio de F...   \n",
       "\n",
       "                                nome_citacao_autores  \\\n",
       "1  ZOTTIS, ALEXANDRE D´AGOSTINI; LARA, L. R. S.; ...   \n",
       "2  ZOTTIS, ALEXANDRE D´AGOSTINI; LARA, L. R. S.; ...   \n",
       "3  MALDONADO, Gaspar Gonzalez; MELO, Marcus Anton...   \n",
       "4  MALDONADO, Gaspar Gonzalez; MELO, Marcus Anton...   \n",
       "5  MALDONADO, Gaspar Gonzalez; MELO, Marcus Anton...   \n",
       "\n",
       "                               ordem_autoria_autores  \\\n",
       "1                  1; 10; 11; 2; 3; 4; 5; 6; 7; 8; 9   \n",
       "2  1; 10; 11; 2; 3; 4; 5; 6; 7; 8; 9; 1; 2; 3; 4;...   \n",
       "3  1; 2; 3; 4; 1; 2; 3; 4; 5; 6; 1; 2; 3; 4; 1; 2...   \n",
       "4  1; 2; 3; 4; 1; 2; 3; 4; 5; 6; 1; 2; 3; 4; 1; 2...   \n",
       "5  1; 2; 3; 4; 1; 2; 3; 4; 5; 6; 1; 2; 3; 4; 1; 2...   \n",
       "\n",
       "                                          id_autores  \n",
       "1  VAZIO; VAZIO; VAZIO; VAZIO; VAZIO; VAZIO; 5839...  \n",
       "2  VAZIO; VAZIO; VAZIO; VAZIO; VAZIO; VAZIO; 5839...  \n",
       "3  VAZIO; VAZIO; 5840621182000517; 33188717161115...  \n",
       "4  VAZIO; VAZIO; 5840621182000517; 33188717161115...  \n",
       "5  VAZIO; VAZIO; 5840621182000517; 33188717161115...  \n",
       "\n",
       "[5 rows x 45 columns]"
      ]
     },
     "execution_count": 8,
     "metadata": {},
     "output_type": "execute_result"
    }
   ],
   "source": [
    "df.head()"
   ]
  },
  {
   "cell_type": "code",
   "execution_count": 10,
   "metadata": {},
   "outputs": [
    {
     "data": {
      "text/plain": [
       " 1.0    1718\n",
       "-1.0     192\n",
       " 0.0       1\n",
       "Name: membro_status, dtype: int64"
      ]
     },
     "execution_count": 10,
     "metadata": {},
     "output_type": "execute_result"
    }
   ],
   "source": [
    "df.membro_status.value_counts()"
   ]
  },
  {
   "cell_type": "code",
   "execution_count": null,
   "metadata": {},
   "outputs": [],
   "source": []
  }
 ],
 "metadata": {
  "kernelspec": {
   "display_name": "Python 3",
   "language": "python",
   "name": "python3"
  },
  "language_info": {
   "codemirror_mode": {
    "name": "ipython",
    "version": 3
   },
   "file_extension": ".py",
   "mimetype": "text/x-python",
   "name": "python",
   "nbconvert_exporter": "python",
   "pygments_lexer": "ipython3",
   "version": "3.5.2"
  }
 },
 "nbformat": 4,
 "nbformat_minor": 2
}
