{
 "cells": [
  {
   "cell_type": "code",
   "execution_count": 1,
   "metadata": {},
   "outputs": [],
   "source": [
    "import pandas as pd"
   ]
  },
  {
   "cell_type": "code",
   "execution_count": 2,
   "metadata": {},
   "outputs": [],
   "source": [
    "df = pd.read_excel('../patentes/patentes.xlsx',sheet_name = 'Sheet1') "
   ]
  },
  {
   "cell_type": "code",
   "execution_count": 3,
   "metadata": {},
   "outputs": [
    {
     "data": {
      "text/plain": [
       "5433"
      ]
     },
     "execution_count": 3,
     "metadata": {},
     "output_type": "execute_result"
    }
   ],
   "source": [
    "len(df)"
   ]
  },
  {
   "cell_type": "code",
   "execution_count": 4,
   "metadata": {},
   "outputs": [
    {
     "data": {
      "text/plain": [
       "Index(['id_lattes', 'respondeu', 'inct', 'grupo_tematico', 'membro_status',\n",
       "       'nome_completo', 'id_patente', 'titulo_patente', 'ano_desenvolvimento',\n",
       "       'pais', 'meio_de_divulgacao', 'flag_relevancia',\n",
       "       'flag_potencial_inovacao', 'finalidade', 'instituicao_financiadora',\n",
       "       'categoria', 'tipo_patente', 'titulo_patente_reg',\n",
       "       'data_pedido_de_deposito', 'data_pedido_de_exame', 'data_de_concessao',\n",
       "       'instituicao_deposito_registro', 'numero_deposito_pct',\n",
       "       'formato_data_deposito_pct', 'data_deposito_pct', 'nome_titular',\n",
       "       'nome_depositante', 'sta_validacao', 'descricao_situacao',\n",
       "       'data_situacao', 'status_situacao', 'palavra_chave_1',\n",
       "       'palavra_chave_2', 'palavra_chave_3', 'palavra_chave_4',\n",
       "       'palavra_chave_5', 'palavra_chave_6', 'setor_de_atividade_1',\n",
       "       'setor_de_atividade_2', 'setor_de_atividade_3',\n",
       "       'descricao_info_adicionais', 'nome_completo_autores',\n",
       "       'nome_citacao_autores', 'ordem_autoria_autores', 'id_autores'],\n",
       "      dtype='object')"
      ]
     },
     "execution_count": 4,
     "metadata": {},
     "output_type": "execute_result"
    }
   ],
   "source": [
    "df.columns"
   ]
  },
  {
   "cell_type": "code",
   "execution_count": 7,
   "metadata": {},
   "outputs": [
    {
     "data": {
      "text/plain": [
       "INCT de Sistemas Micro e Nanoeletrônicos                               286\n",
       " INCT em Materiais Complexos Funcionais                                285\n",
       "INCT de Vacinas                                                        277\n",
       "INCT de Catálise em Sistemas Moleculares e Nanoestruturados            253\n",
       "INCT de Fármacos e Medicamentos                                        246\n",
       " INCT de Ciencias dos Materiais em Nanotecnologia                      222\n",
       "INCT de Nanobiotecnologia                                              194\n",
       "INCT em Nano-Biofarmacêutica                                           193\n",
       "INCT de Nanomateriais de Carbono                                       166\n",
       "INCT em Fotônica para Comunicações Ópticas                             154\n",
       "INCT de Nanotecnologia para Marcadores Integrados                      152\n",
       "INCT do Bioetanol                                                      133\n",
       "INCT de Fotônica                                                       133\n",
       "INCT de Eletrônica Orgânica                                            112\n",
       "INCT de Óptica e Fotônica                                              102\n",
       "INCT em Toxinas                                                         95\n",
       " INCT de Bioanalitica                                                   93\n",
       "INCT em Dengue                                                          92\n",
       " INCT de Engenharia de Superfícies                                      89\n",
       " INCT de Tecnologias Analiticas Avançadas                               89\n",
       "INCT para Diagnóstico em Saúde Pública                                  77\n",
       "INCT em Células-Tronco e Terapia Celular                                73\n",
       "INCT de Controle Biorracional de Insetos Pragas                         72\n",
       "INCT para Fixação Biológica de Nitrogênio em Gramíneas                  71\n",
       " INCT de Estudos do Meio Ambiente                                       65\n",
       "INCT de Informação Genético-Sanitária da Pecuária Brasileira            65\n",
       "INCT de Estudos do Espaço (Projeto CNPq )                               65\n",
       "INCT de Biologia Estrutural e Bioimagem                                 64\n",
       "INCT de Medicina Molecular                                              64\n",
       "INCT de Entomologia Molecular                                           61\n",
       "                                                                      ... \n",
       "INCT da Biodiversidade Amazônica                                        11\n",
       "INCT para o Controle das Intoxicações por Plantas                       10\n",
       "INCT para Febres Hemorrágicas Virais                                    10\n",
       "INCT em Refrigeração e Termofísica                                       9\n",
       " INCT de Reabilitação do Sistema Encosta-Planice                         9\n",
       "INCT de Geociências da Amazônia                                          7\n",
       "INCT Antártico de Pesquisas Ambientais                                   7\n",
       "INCT de Astrofísica                                                      7\n",
       "INCT em Engenharia da Irrigação                                          6\n",
       "INCT em Metrologia das Radiações na Medicina                             6\n",
       "INCT em Salinidade                                                       6\n",
       "INCT de Comunicações Sem Fio                                             5\n",
       "INCT de Sistemas Complexos                                               5\n",
       "INCT Virtual da Flora e dos Fungos                                       4\n",
       "INCT de Transferências de Materiais Continente-Oceano                    4\n",
       "INCT em Biodiversidade e uso da Terra da Amazônia                        3\n",
       "INCTWeb - Instituto Nacional de Ciência e Tecnologia para a Web          3\n",
       "INCT de Toxicologia Aquática                                             3\n",
       " INCT de Arqueologia, Paleontologia  e Ambiente do Semi Árido            2\n",
       "INCT de Genética Médica Populacional                                     2\n",
       "INCT de Psiquiatria do Desenvolvimento para Crianças e Adolescentes      2\n",
       "INCT de Hormônios e Saúde da Mulher                                      2\n",
       "INCT para Engenharia de Software                                         2\n",
       " INCT de Óleo e Gás                                                      2\n",
       "INCT das Doenças do Papilomavirus                                        2\n",
       "INCT dos Hymenoptera Parasitóides da Região Sudeste Brasileira           1\n",
       "INCT de Energias Renováveis e Eficiência Energética da Amazônia          1\n",
       "INCT para Avaliação de Tecnologias em Saúde                              1\n",
       "INCT em Fisiologia Comparada                                             1\n",
       "INCT de Políticas Públicas do Álcool e Outras Drogas                     1\n",
       "Name: inct, Length: 105, dtype: int64"
      ]
     },
     "execution_count": 7,
     "metadata": {},
     "output_type": "execute_result"
    }
   ],
   "source": [
    "df.inct.value_counts()"
   ]
  },
  {
   "cell_type": "code",
   "execution_count": null,
   "metadata": {},
   "outputs": [],
   "source": []
  }
 ],
 "metadata": {
  "kernelspec": {
   "display_name": "Python 3",
   "language": "python",
   "name": "python3"
  },
  "language_info": {
   "codemirror_mode": {
    "name": "ipython",
    "version": 3
   },
   "file_extension": ".py",
   "mimetype": "text/x-python",
   "name": "python",
   "nbconvert_exporter": "python",
   "pygments_lexer": "ipython3",
   "version": "3.5.2"
  }
 },
 "nbformat": 4,
 "nbformat_minor": 2
}
