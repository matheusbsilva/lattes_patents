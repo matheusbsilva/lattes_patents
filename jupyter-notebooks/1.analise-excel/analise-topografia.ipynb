{
 "cells": [
  {
   "cell_type": "code",
   "execution_count": 2,
   "metadata": {},
   "outputs": [],
   "source": [
    "import pandas as pd"
   ]
  },
  {
   "cell_type": "code",
   "execution_count": 3,
   "metadata": {},
   "outputs": [],
   "source": [
    "df = pd.read_excel('../patentes/topografia.xlsx',sheet_name = 'Sheet1') "
   ]
  },
  {
   "cell_type": "code",
   "execution_count": 4,
   "metadata": {},
   "outputs": [
    {
     "data": {
      "text/plain": [
       "Index(['id_lattes', 'respondeu', 'inct', 'grupo_tematico', 'membro_status',\n",
       "       'nome_completo', 'id_patente', 'titulo_topografia',\n",
       "       'ano_desenvolvimento', 'pais', 'flag_relevancia', 'titulo_ingles',\n",
       "       'flag_potencial_inovacao', 'finalidade', 'instituicao_financiadora',\n",
       "       'finalidade_ingles', 'tipo_patente', 'titulo_patente_reg',\n",
       "       'data_pedido_de_deposito', 'data_pedido_de_exame', 'data_de_concessao',\n",
       "       'instituicao_deposito_registro', 'numero_deposito_pct',\n",
       "       'formato_data_deposito_pct', 'data_deposito_pct', 'nome_titular',\n",
       "       'nome_depositante', 'sta_validacao', 'descricao_info_adicionais',\n",
       "       'nome_completo_autores', 'nome_citacao_autores',\n",
       "       'ordem_autoria_autores', 'id_autores'],\n",
       "      dtype='object')"
      ]
     },
     "execution_count": 4,
     "metadata": {},
     "output_type": "execute_result"
    }
   ],
   "source": [
    "df.columns"
   ]
  },
  {
   "cell_type": "code",
   "execution_count": 5,
   "metadata": {},
   "outputs": [
    {
     "data": {
      "text/plain": [
       "id_lattes                        0\n",
       "respondeu                        0\n",
       "inct                             0\n",
       "grupo_tematico                   0\n",
       "membro_status                    0\n",
       "nome_completo                    0\n",
       "id_patente                       0\n",
       "titulo_topografia                0\n",
       "ano_desenvolvimento              0\n",
       "pais                             0\n",
       "flag_relevancia                  0\n",
       "titulo_ingles                    2\n",
       "flag_potencial_inovacao          0\n",
       "finalidade                       0\n",
       "instituicao_financiadora         0\n",
       "finalidade_ingles                2\n",
       "tipo_patente                     0\n",
       "titulo_patente_reg               0\n",
       "data_pedido_de_deposito          2\n",
       "data_pedido_de_exame             2\n",
       "data_de_concessao                2\n",
       "instituicao_deposito_registro    0\n",
       "numero_deposito_pct              2\n",
       "formato_data_deposito_pct        0\n",
       "data_deposito_pct                2\n",
       "nome_titular                     2\n",
       "nome_depositante                 2\n",
       "sta_validacao                    2\n",
       "descricao_info_adicionais        0\n",
       "nome_completo_autores            0\n",
       "nome_citacao_autores             0\n",
       "ordem_autoria_autores            0\n",
       "id_autores                       0\n",
       "dtype: int64"
      ]
     },
     "execution_count": 5,
     "metadata": {},
     "output_type": "execute_result"
    }
   ],
   "source": [
    "df.isna().sum()"
   ]
  },
  {
   "cell_type": "code",
   "execution_count": null,
   "metadata": {},
   "outputs": [],
   "source": []
  }
 ],
 "metadata": {
  "kernelspec": {
   "display_name": "Python 3",
   "language": "python",
   "name": "python3"
  },
  "language_info": {
   "codemirror_mode": {
    "name": "ipython",
    "version": 3
   },
   "file_extension": ".py",
   "mimetype": "text/x-python",
   "name": "python",
   "nbconvert_exporter": "python",
   "pygments_lexer": "ipython3",
   "version": "3.5.2"
  }
 },
 "nbformat": 4,
 "nbformat_minor": 2
}
